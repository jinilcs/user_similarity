{
 "cells": [
  {
   "cell_type": "code",
   "execution_count": 124,
   "metadata": {
    "collapsed": true
   },
   "outputs": [],
   "source": [
    "import pandas as pd\n",
    "import numpy as np\n",
    "from sklearn.preprocessing import MinMaxScaler\n",
    "import matplotlib.pyplot as plt\n",
    "%matplotlib inline\n",
    "\n",
    "import sqlite3\n",
    "from sklearn.externals import joblib\n",
    "from sklearn.metrics.pairwise import cosine_similarity\n",
    "from sklearn.decomposition import TruncatedSVD"
   ]
  },
  {
   "cell_type": "markdown",
   "metadata": {},
   "source": [
    "## Load Data"
   ]
  },
  {
   "cell_type": "code",
   "execution_count": 119,
   "metadata": {
    "collapsed": true
   },
   "outputs": [],
   "source": [
    "scores = pd.read_csv('../data/user_assessment_scores.csv')\n",
    "views = pd.read_csv('../data/user_course_views.csv')\n",
    "tags = pd.read_csv('../data/course_tags.csv')\n",
    "interests = pd.read_csv('../data/user_interests.csv')"
   ]
  },
  {
   "cell_type": "code",
   "execution_count": 4,
   "metadata": {},
   "outputs": [
    {
     "data": {
      "text/html": [
       "<div>\n",
       "<style>\n",
       "    .dataframe thead tr:only-child th {\n",
       "        text-align: right;\n",
       "    }\n",
       "\n",
       "    .dataframe thead th {\n",
       "        text-align: left;\n",
       "    }\n",
       "\n",
       "    .dataframe tbody tr th {\n",
       "        vertical-align: top;\n",
       "    }\n",
       "</style>\n",
       "<table border=\"1\" class=\"dataframe\">\n",
       "  <thead>\n",
       "    <tr style=\"text-align: right;\">\n",
       "      <th></th>\n",
       "      <th>user_handle</th>\n",
       "      <th>assessment_tag</th>\n",
       "      <th>user_assessment_date</th>\n",
       "      <th>user_assessment_score</th>\n",
       "    </tr>\n",
       "  </thead>\n",
       "  <tbody>\n",
       "    <tr>\n",
       "      <th>0</th>\n",
       "      <td>7487</td>\n",
       "      <td>angular-js</td>\n",
       "      <td>2017-08-11 19:03:38</td>\n",
       "      <td>134</td>\n",
       "    </tr>\n",
       "    <tr>\n",
       "      <th>1</th>\n",
       "      <td>7487</td>\n",
       "      <td>css</td>\n",
       "      <td>2017-08-11 20:09:56</td>\n",
       "      <td>38</td>\n",
       "    </tr>\n",
       "    <tr>\n",
       "      <th>2</th>\n",
       "      <td>7487</td>\n",
       "      <td>html5</td>\n",
       "      <td>2017-07-31 18:59:37</td>\n",
       "      <td>84</td>\n",
       "    </tr>\n",
       "    <tr>\n",
       "      <th>3</th>\n",
       "      <td>7487</td>\n",
       "      <td>java</td>\n",
       "      <td>2017-07-31 18:49:27</td>\n",
       "      <td>149</td>\n",
       "    </tr>\n",
       "    <tr>\n",
       "      <th>4</th>\n",
       "      <td>7487</td>\n",
       "      <td>javascript</td>\n",
       "      <td>2017-07-31 19:05:03</td>\n",
       "      <td>92</td>\n",
       "    </tr>\n",
       "  </tbody>\n",
       "</table>\n",
       "</div>"
      ],
      "text/plain": [
       "   user_handle assessment_tag user_assessment_date  user_assessment_score\n",
       "0         7487     angular-js  2017-08-11 19:03:38                    134\n",
       "1         7487            css  2017-08-11 20:09:56                     38\n",
       "2         7487          html5  2017-07-31 18:59:37                     84\n",
       "3         7487           java  2017-07-31 18:49:27                    149\n",
       "4         7487     javascript  2017-07-31 19:05:03                     92"
      ]
     },
     "execution_count": 4,
     "metadata": {},
     "output_type": "execute_result"
    }
   ],
   "source": [
    "scores.head()"
   ]
  },
  {
   "cell_type": "code",
   "execution_count": 5,
   "metadata": {},
   "outputs": [
    {
     "name": "stdout",
     "output_type": "stream",
     "text": [
      "<class 'pandas.core.frame.DataFrame'>\n",
      "RangeIndex: 6571 entries, 0 to 6570\n",
      "Data columns (total 4 columns):\n",
      "user_handle              6571 non-null int64\n",
      "assessment_tag           6571 non-null object\n",
      "user_assessment_date     6571 non-null object\n",
      "user_assessment_score    6571 non-null int64\n",
      "dtypes: int64(2), object(2)\n",
      "memory usage: 205.4+ KB\n"
     ]
    }
   ],
   "source": [
    "scores.info()"
   ]
  },
  {
   "cell_type": "code",
   "execution_count": 6,
   "metadata": {},
   "outputs": [
    {
     "data": {
      "text/html": [
       "<div>\n",
       "<style>\n",
       "    .dataframe thead tr:only-child th {\n",
       "        text-align: right;\n",
       "    }\n",
       "\n",
       "    .dataframe thead th {\n",
       "        text-align: left;\n",
       "    }\n",
       "\n",
       "    .dataframe tbody tr th {\n",
       "        vertical-align: top;\n",
       "    }\n",
       "</style>\n",
       "<table border=\"1\" class=\"dataframe\">\n",
       "  <thead>\n",
       "    <tr style=\"text-align: right;\">\n",
       "      <th></th>\n",
       "      <th>user_handle</th>\n",
       "      <th>view_date</th>\n",
       "      <th>course_id</th>\n",
       "      <th>author_handle</th>\n",
       "      <th>level</th>\n",
       "      <th>view_time_seconds</th>\n",
       "    </tr>\n",
       "  </thead>\n",
       "  <tbody>\n",
       "    <tr>\n",
       "      <th>0</th>\n",
       "      <td>1</td>\n",
       "      <td>2017-06-27</td>\n",
       "      <td>cpt-sp2010-web-designers-branding-intro</td>\n",
       "      <td>875</td>\n",
       "      <td>Beginner</td>\n",
       "      <td>3786</td>\n",
       "    </tr>\n",
       "    <tr>\n",
       "      <th>1</th>\n",
       "      <td>1</td>\n",
       "      <td>2017-06-28</td>\n",
       "      <td>cpt-sp2010-web-designers-branding-intro</td>\n",
       "      <td>875</td>\n",
       "      <td>Beginner</td>\n",
       "      <td>1098</td>\n",
       "    </tr>\n",
       "    <tr>\n",
       "      <th>2</th>\n",
       "      <td>1</td>\n",
       "      <td>2017-06-28</td>\n",
       "      <td>cpt-sp2010-web-designers-css</td>\n",
       "      <td>875</td>\n",
       "      <td>Intermediate</td>\n",
       "      <td>4406</td>\n",
       "    </tr>\n",
       "    <tr>\n",
       "      <th>3</th>\n",
       "      <td>1</td>\n",
       "      <td>2017-07-27</td>\n",
       "      <td>cpt-sp2010-web-designers-css</td>\n",
       "      <td>875</td>\n",
       "      <td>Intermediate</td>\n",
       "      <td>553</td>\n",
       "    </tr>\n",
       "    <tr>\n",
       "      <th>4</th>\n",
       "      <td>1</td>\n",
       "      <td>2017-09-12</td>\n",
       "      <td>aws-certified-solutions-architect-professional</td>\n",
       "      <td>281</td>\n",
       "      <td>Advanced</td>\n",
       "      <td>102</td>\n",
       "    </tr>\n",
       "  </tbody>\n",
       "</table>\n",
       "</div>"
      ],
      "text/plain": [
       "   user_handle   view_date                                       course_id  \\\n",
       "0            1  2017-06-27         cpt-sp2010-web-designers-branding-intro   \n",
       "1            1  2017-06-28         cpt-sp2010-web-designers-branding-intro   \n",
       "2            1  2017-06-28                    cpt-sp2010-web-designers-css   \n",
       "3            1  2017-07-27                    cpt-sp2010-web-designers-css   \n",
       "4            1  2017-09-12  aws-certified-solutions-architect-professional   \n",
       "\n",
       "   author_handle         level  view_time_seconds  \n",
       "0            875      Beginner               3786  \n",
       "1            875      Beginner               1098  \n",
       "2            875  Intermediate               4406  \n",
       "3            875  Intermediate                553  \n",
       "4            281      Advanced                102  "
      ]
     },
     "execution_count": 6,
     "metadata": {},
     "output_type": "execute_result"
    }
   ],
   "source": [
    "views.head()"
   ]
  },
  {
   "cell_type": "code",
   "execution_count": 7,
   "metadata": {},
   "outputs": [
    {
     "name": "stdout",
     "output_type": "stream",
     "text": [
      "<class 'pandas.core.frame.DataFrame'>\n",
      "RangeIndex: 249238 entries, 0 to 249237\n",
      "Data columns (total 6 columns):\n",
      "user_handle          249238 non-null int64\n",
      "view_date            249238 non-null object\n",
      "course_id            249238 non-null object\n",
      "author_handle        249238 non-null int64\n",
      "level                249238 non-null object\n",
      "view_time_seconds    249238 non-null int64\n",
      "dtypes: int64(3), object(3)\n",
      "memory usage: 11.4+ MB\n"
     ]
    }
   ],
   "source": [
    "views.info()"
   ]
  },
  {
   "cell_type": "code",
   "execution_count": 8,
   "metadata": {},
   "outputs": [
    {
     "data": {
      "text/html": [
       "<div>\n",
       "<style>\n",
       "    .dataframe thead tr:only-child th {\n",
       "        text-align: right;\n",
       "    }\n",
       "\n",
       "    .dataframe thead th {\n",
       "        text-align: left;\n",
       "    }\n",
       "\n",
       "    .dataframe tbody tr th {\n",
       "        vertical-align: top;\n",
       "    }\n",
       "</style>\n",
       "<table border=\"1\" class=\"dataframe\">\n",
       "  <thead>\n",
       "    <tr style=\"text-align: right;\">\n",
       "      <th></th>\n",
       "      <th>course_id</th>\n",
       "      <th>course_tags</th>\n",
       "    </tr>\n",
       "  </thead>\n",
       "  <tbody>\n",
       "    <tr>\n",
       "      <th>0</th>\n",
       "      <td>12-principles-animation-toon-boom-harmony-1475</td>\n",
       "      <td>2d-animation</td>\n",
       "    </tr>\n",
       "    <tr>\n",
       "      <th>1</th>\n",
       "      <td>2d-racing-game-series-unity-5-1312</td>\n",
       "      <td>game-design</td>\n",
       "    </tr>\n",
       "    <tr>\n",
       "      <th>2</th>\n",
       "      <td>2d-racing-games-unity-volume-2-1286</td>\n",
       "      <td>game-art</td>\n",
       "    </tr>\n",
       "    <tr>\n",
       "      <th>3</th>\n",
       "      <td>2d-racing-games-unity-volume-2-1286</td>\n",
       "      <td>digital-painting</td>\n",
       "    </tr>\n",
       "    <tr>\n",
       "      <th>4</th>\n",
       "      <td>2d-racing-games-unity-volume-2-1286</td>\n",
       "      <td>image-editing</td>\n",
       "    </tr>\n",
       "  </tbody>\n",
       "</table>\n",
       "</div>"
      ],
      "text/plain": [
       "                                        course_id       course_tags\n",
       "0  12-principles-animation-toon-boom-harmony-1475      2d-animation\n",
       "1              2d-racing-game-series-unity-5-1312       game-design\n",
       "2             2d-racing-games-unity-volume-2-1286          game-art\n",
       "3             2d-racing-games-unity-volume-2-1286  digital-painting\n",
       "4             2d-racing-games-unity-volume-2-1286     image-editing"
      ]
     },
     "execution_count": 8,
     "metadata": {},
     "output_type": "execute_result"
    }
   ],
   "source": [
    "tags.head()"
   ]
  },
  {
   "cell_type": "code",
   "execution_count": 9,
   "metadata": {},
   "outputs": [
    {
     "name": "stdout",
     "output_type": "stream",
     "text": [
      "<class 'pandas.core.frame.DataFrame'>\n",
      "RangeIndex: 11337 entries, 0 to 11336\n",
      "Data columns (total 2 columns):\n",
      "course_id      11337 non-null object\n",
      "course_tags    11225 non-null object\n",
      "dtypes: object(2)\n",
      "memory usage: 177.2+ KB\n"
     ]
    }
   ],
   "source": [
    "tags.info()"
   ]
  },
  {
   "cell_type": "code",
   "execution_count": 10,
   "metadata": {},
   "outputs": [
    {
     "data": {
      "text/html": [
       "<div>\n",
       "<style>\n",
       "    .dataframe thead tr:only-child th {\n",
       "        text-align: right;\n",
       "    }\n",
       "\n",
       "    .dataframe thead th {\n",
       "        text-align: left;\n",
       "    }\n",
       "\n",
       "    .dataframe tbody tr th {\n",
       "        vertical-align: top;\n",
       "    }\n",
       "</style>\n",
       "<table border=\"1\" class=\"dataframe\">\n",
       "  <thead>\n",
       "    <tr style=\"text-align: right;\">\n",
       "      <th></th>\n",
       "      <th>user_handle</th>\n",
       "      <th>interest_tag</th>\n",
       "      <th>date_followed</th>\n",
       "    </tr>\n",
       "  </thead>\n",
       "  <tbody>\n",
       "    <tr>\n",
       "      <th>0</th>\n",
       "      <td>1</td>\n",
       "      <td>mvc-scaffolding</td>\n",
       "      <td>2017-06-27 16:26:52</td>\n",
       "    </tr>\n",
       "    <tr>\n",
       "      <th>1</th>\n",
       "      <td>1</td>\n",
       "      <td>mvc2</td>\n",
       "      <td>2017-06-27 16:26:52</td>\n",
       "    </tr>\n",
       "    <tr>\n",
       "      <th>2</th>\n",
       "      <td>1</td>\n",
       "      <td>mvc-html-helpers</td>\n",
       "      <td>2017-06-27 16:26:52</td>\n",
       "    </tr>\n",
       "    <tr>\n",
       "      <th>3</th>\n",
       "      <td>1</td>\n",
       "      <td>mvc4-ioc</td>\n",
       "      <td>2017-06-27 16:26:52</td>\n",
       "    </tr>\n",
       "    <tr>\n",
       "      <th>4</th>\n",
       "      <td>1</td>\n",
       "      <td>mvc-testing</td>\n",
       "      <td>2017-06-27 16:26:52</td>\n",
       "    </tr>\n",
       "  </tbody>\n",
       "</table>\n",
       "</div>"
      ],
      "text/plain": [
       "   user_handle      interest_tag        date_followed\n",
       "0            1   mvc-scaffolding  2017-06-27 16:26:52\n",
       "1            1              mvc2  2017-06-27 16:26:52\n",
       "2            1  mvc-html-helpers  2017-06-27 16:26:52\n",
       "3            1          mvc4-ioc  2017-06-27 16:26:52\n",
       "4            1       mvc-testing  2017-06-27 16:26:52"
      ]
     },
     "execution_count": 10,
     "metadata": {},
     "output_type": "execute_result"
    }
   ],
   "source": [
    "interests.head()"
   ]
  },
  {
   "cell_type": "code",
   "execution_count": 11,
   "metadata": {},
   "outputs": [
    {
     "name": "stdout",
     "output_type": "stream",
     "text": [
      "<class 'pandas.core.frame.DataFrame'>\n",
      "RangeIndex: 297526 entries, 0 to 297525\n",
      "Data columns (total 3 columns):\n",
      "user_handle      297526 non-null int64\n",
      "interest_tag     297526 non-null object\n",
      "date_followed    297526 non-null object\n",
      "dtypes: int64(1), object(2)\n",
      "memory usage: 6.8+ MB\n"
     ]
    }
   ],
   "source": [
    "interests.info()"
   ]
  },
  {
   "cell_type": "code",
   "execution_count": 12,
   "metadata": {
    "collapsed": true
   },
   "outputs": [],
   "source": [
    "#Creating sqlite database tables \n",
    "\n",
    "db_file = '../db/usersim.sqlite'\n",
    "engine = sqlite3.connect(db_file, timeout=10)\n",
    "\n",
    "scores.to_sql('scores', engine, if_exists='replace', index=False, index_label='user_handle')\n",
    "views.to_sql('views', engine, if_exists='replace', index=False, index_label='user_handle')\n",
    "tags.to_sql('tags', engine, if_exists='replace', index=False, index_label='course_id')\n",
    "interests.to_sql('interests', engine, if_exists='replace', index=False, index_label='user_handle')\n",
    "engine.close()"
   ]
  },
  {
   "cell_type": "markdown",
   "metadata": {},
   "source": [
    "## Analysis and Preprocessing"
   ]
  },
  {
   "cell_type": "markdown",
   "metadata": {},
   "source": [
    "### Scores"
   ]
  },
  {
   "cell_type": "code",
   "execution_count": 13,
   "metadata": {},
   "outputs": [
    {
     "data": {
      "text/html": [
       "<div>\n",
       "<style>\n",
       "    .dataframe thead tr:only-child th {\n",
       "        text-align: right;\n",
       "    }\n",
       "\n",
       "    .dataframe thead th {\n",
       "        text-align: left;\n",
       "    }\n",
       "\n",
       "    .dataframe tbody tr th {\n",
       "        vertical-align: top;\n",
       "    }\n",
       "</style>\n",
       "<table border=\"1\" class=\"dataframe\">\n",
       "  <thead>\n",
       "    <tr style=\"text-align: right;\">\n",
       "      <th></th>\n",
       "      <th>user_handle</th>\n",
       "      <th>assessment_tag</th>\n",
       "      <th>user_assessment_date</th>\n",
       "      <th>user_assessment_score</th>\n",
       "    </tr>\n",
       "  </thead>\n",
       "  <tbody>\n",
       "    <tr>\n",
       "      <th>0</th>\n",
       "      <td>7487</td>\n",
       "      <td>angular-js</td>\n",
       "      <td>2017-08-11 19:03:38</td>\n",
       "      <td>134</td>\n",
       "    </tr>\n",
       "    <tr>\n",
       "      <th>1</th>\n",
       "      <td>7487</td>\n",
       "      <td>css</td>\n",
       "      <td>2017-08-11 20:09:56</td>\n",
       "      <td>38</td>\n",
       "    </tr>\n",
       "    <tr>\n",
       "      <th>2</th>\n",
       "      <td>7487</td>\n",
       "      <td>html5</td>\n",
       "      <td>2017-07-31 18:59:37</td>\n",
       "      <td>84</td>\n",
       "    </tr>\n",
       "    <tr>\n",
       "      <th>3</th>\n",
       "      <td>7487</td>\n",
       "      <td>java</td>\n",
       "      <td>2017-07-31 18:49:27</td>\n",
       "      <td>149</td>\n",
       "    </tr>\n",
       "    <tr>\n",
       "      <th>4</th>\n",
       "      <td>7487</td>\n",
       "      <td>javascript</td>\n",
       "      <td>2017-07-31 19:05:03</td>\n",
       "      <td>92</td>\n",
       "    </tr>\n",
       "  </tbody>\n",
       "</table>\n",
       "</div>"
      ],
      "text/plain": [
       "   user_handle assessment_tag user_assessment_date  user_assessment_score\n",
       "0         7487     angular-js  2017-08-11 19:03:38                    134\n",
       "1         7487            css  2017-08-11 20:09:56                     38\n",
       "2         7487          html5  2017-07-31 18:59:37                     84\n",
       "3         7487           java  2017-07-31 18:49:27                    149\n",
       "4         7487     javascript  2017-07-31 19:05:03                     92"
      ]
     },
     "execution_count": 13,
     "metadata": {},
     "output_type": "execute_result"
    }
   ],
   "source": [
    "scores.head()"
   ]
  },
  {
   "cell_type": "code",
   "execution_count": 14,
   "metadata": {},
   "outputs": [
    {
     "data": {
      "text/plain": [
       "<matplotlib.axes._subplots.AxesSubplot at 0x10f773710>"
      ]
     },
     "execution_count": 14,
     "metadata": {},
     "output_type": "execute_result"
    },
    {
     "data": {
      "image/png": "[encoded data removed]",
      "text/plain": [
       "<matplotlib.figure.Figure at 0x10f7670b8>"
      ]
     },
     "metadata": {},
     "output_type": "display_data"
    }
   ],
   "source": [
    "scores['user_assessment_score'].hist(bins=50)"
   ]
  },
  {
   "cell_type": "code",
   "execution_count": 15,
   "metadata": {},
   "outputs": [
    {
     "data": {
      "text/plain": [
       "(3114, 54)"
      ]
     },
     "execution_count": 15,
     "metadata": {},
     "output_type": "execute_result"
    }
   ],
   "source": [
    "scores['user_handle'].nunique(), scores['assessment_tag'].nunique()"
   ]
  },
  {
   "cell_type": "code",
   "execution_count": 16,
   "metadata": {},
   "outputs": [
    {
     "data": {
      "text/plain": [
       "('2016-07-13 15:30:44', '2017-11-28 19:34:32')"
      ]
     },
     "execution_count": 16,
     "metadata": {},
     "output_type": "execute_result"
    }
   ],
   "source": [
    "scores['user_assessment_date'].min(), scores['user_assessment_date'].max()"
   ]
  },
  {
   "cell_type": "code",
   "execution_count": 17,
   "metadata": {
    "collapsed": true
   },
   "outputs": [],
   "source": [
    "#Find decay factor using user_assessment_date\n",
    "\n",
    "scores['user_assessment_date'] = pd.to_datetime(scores['user_assessment_date'])\n",
    "scores['user_assessment_age'] = pd.to_datetime(scores['user_assessment_date'].max() + pd.DateOffset(1)) - scores['user_assessment_date']\n",
    "\n",
    "#converting Date to days\n",
    "scores['user_assessment_age'] = scores['user_assessment_age'].apply(lambda x: x.days)\n",
    "\n",
    "#Decay factor\n",
    "scores['user_assessment_decay'] = 1/(scores['user_assessment_age']//30 + 1)"
   ]
  },
  {
   "cell_type": "code",
   "execution_count": 18,
   "metadata": {},
   "outputs": [
    {
     "data": {
      "text/html": [
       "<div>\n",
       "<style>\n",
       "    .dataframe thead tr:only-child th {\n",
       "        text-align: right;\n",
       "    }\n",
       "\n",
       "    .dataframe thead th {\n",
       "        text-align: left;\n",
       "    }\n",
       "\n",
       "    .dataframe tbody tr th {\n",
       "        vertical-align: top;\n",
       "    }\n",
       "</style>\n",
       "<table border=\"1\" class=\"dataframe\">\n",
       "  <thead>\n",
       "    <tr style=\"text-align: right;\">\n",
       "      <th></th>\n",
       "      <th>user_handle</th>\n",
       "      <th>assessment_tag</th>\n",
       "      <th>user_assessment_date</th>\n",
       "      <th>user_assessment_score</th>\n",
       "      <th>user_assessment_age</th>\n",
       "      <th>user_assessment_decay</th>\n",
       "    </tr>\n",
       "  </thead>\n",
       "  <tbody>\n",
       "    <tr>\n",
       "      <th>0</th>\n",
       "      <td>7487</td>\n",
       "      <td>angular-js</td>\n",
       "      <td>2017-08-11 19:03:38</td>\n",
       "      <td>134</td>\n",
       "      <td>110</td>\n",
       "      <td>0.25</td>\n",
       "    </tr>\n",
       "    <tr>\n",
       "      <th>1</th>\n",
       "      <td>7487</td>\n",
       "      <td>css</td>\n",
       "      <td>2017-08-11 20:09:56</td>\n",
       "      <td>38</td>\n",
       "      <td>109</td>\n",
       "      <td>0.25</td>\n",
       "    </tr>\n",
       "    <tr>\n",
       "      <th>2</th>\n",
       "      <td>7487</td>\n",
       "      <td>html5</td>\n",
       "      <td>2017-07-31 18:59:37</td>\n",
       "      <td>84</td>\n",
       "      <td>121</td>\n",
       "      <td>0.20</td>\n",
       "    </tr>\n",
       "    <tr>\n",
       "      <th>3</th>\n",
       "      <td>7487</td>\n",
       "      <td>java</td>\n",
       "      <td>2017-07-31 18:49:27</td>\n",
       "      <td>149</td>\n",
       "      <td>121</td>\n",
       "      <td>0.20</td>\n",
       "    </tr>\n",
       "    <tr>\n",
       "      <th>4</th>\n",
       "      <td>7487</td>\n",
       "      <td>javascript</td>\n",
       "      <td>2017-07-31 19:05:03</td>\n",
       "      <td>92</td>\n",
       "      <td>121</td>\n",
       "      <td>0.20</td>\n",
       "    </tr>\n",
       "  </tbody>\n",
       "</table>\n",
       "</div>"
      ],
      "text/plain": [
       "   user_handle assessment_tag user_assessment_date  user_assessment_score  \\\n",
       "0         7487     angular-js  2017-08-11 19:03:38                    134   \n",
       "1         7487            css  2017-08-11 20:09:56                     38   \n",
       "2         7487          html5  2017-07-31 18:59:37                     84   \n",
       "3         7487           java  2017-07-31 18:49:27                    149   \n",
       "4         7487     javascript  2017-07-31 19:05:03                     92   \n",
       "\n",
       "   user_assessment_age  user_assessment_decay  \n",
       "0                  110                   0.25  \n",
       "1                  109                   0.25  \n",
       "2                  121                   0.20  \n",
       "3                  121                   0.20  \n",
       "4                  121                   0.20  "
      ]
     },
     "execution_count": 18,
     "metadata": {},
     "output_type": "execute_result"
    }
   ],
   "source": [
    "scores.head()"
   ]
  },
  {
   "cell_type": "code",
   "execution_count": 19,
   "metadata": {
    "collapsed": true
   },
   "outputs": [],
   "source": [
    "scores['user_assessment_decay'] = scores['user_assessment_score'] * scores['user_assessment_decay']"
   ]
  },
  {
   "cell_type": "code",
   "execution_count": 20,
   "metadata": {
    "collapsed": true
   },
   "outputs": [],
   "source": [
    "scores_decay_scaler = MinMaxScaler()\n",
    "scores['user_assessment_decay'] = scores_decay_scaler.fit_transform(scores['user_assessment_decay'].values.reshape(-1,1))"
   ]
  },
  {
   "cell_type": "code",
   "execution_count": 21,
   "metadata": {},
   "outputs": [
    {
     "data": {
      "text/html": [
       "<div>\n",
       "<style>\n",
       "    .dataframe thead tr:only-child th {\n",
       "        text-align: right;\n",
       "    }\n",
       "\n",
       "    .dataframe thead th {\n",
       "        text-align: left;\n",
       "    }\n",
       "\n",
       "    .dataframe tbody tr th {\n",
       "        vertical-align: top;\n",
       "    }\n",
       "</style>\n",
       "<table border=\"1\" class=\"dataframe\">\n",
       "  <thead>\n",
       "    <tr style=\"text-align: right;\">\n",
       "      <th></th>\n",
       "      <th>user_handle</th>\n",
       "      <th>assessment_tag</th>\n",
       "      <th>user_assessment_date</th>\n",
       "      <th>user_assessment_score</th>\n",
       "      <th>user_assessment_age</th>\n",
       "      <th>user_assessment_decay</th>\n",
       "    </tr>\n",
       "  </thead>\n",
       "  <tbody>\n",
       "    <tr>\n",
       "      <th>0</th>\n",
       "      <td>7487</td>\n",
       "      <td>angular-js</td>\n",
       "      <td>2017-08-11 19:03:38</td>\n",
       "      <td>134</td>\n",
       "      <td>110</td>\n",
       "      <td>0.124074</td>\n",
       "    </tr>\n",
       "    <tr>\n",
       "      <th>1</th>\n",
       "      <td>7487</td>\n",
       "      <td>css</td>\n",
       "      <td>2017-08-11 20:09:56</td>\n",
       "      <td>38</td>\n",
       "      <td>109</td>\n",
       "      <td>0.035185</td>\n",
       "    </tr>\n",
       "    <tr>\n",
       "      <th>2</th>\n",
       "      <td>7487</td>\n",
       "      <td>html5</td>\n",
       "      <td>2017-07-31 18:59:37</td>\n",
       "      <td>84</td>\n",
       "      <td>121</td>\n",
       "      <td>0.062222</td>\n",
       "    </tr>\n",
       "    <tr>\n",
       "      <th>3</th>\n",
       "      <td>7487</td>\n",
       "      <td>java</td>\n",
       "      <td>2017-07-31 18:49:27</td>\n",
       "      <td>149</td>\n",
       "      <td>121</td>\n",
       "      <td>0.110370</td>\n",
       "    </tr>\n",
       "    <tr>\n",
       "      <th>4</th>\n",
       "      <td>7487</td>\n",
       "      <td>javascript</td>\n",
       "      <td>2017-07-31 19:05:03</td>\n",
       "      <td>92</td>\n",
       "      <td>121</td>\n",
       "      <td>0.068148</td>\n",
       "    </tr>\n",
       "  </tbody>\n",
       "</table>\n",
       "</div>"
      ],
      "text/plain": [
       "   user_handle assessment_tag user_assessment_date  user_assessment_score  \\\n",
       "0         7487     angular-js  2017-08-11 19:03:38                    134   \n",
       "1         7487            css  2017-08-11 20:09:56                     38   \n",
       "2         7487          html5  2017-07-31 18:59:37                     84   \n",
       "3         7487           java  2017-07-31 18:49:27                    149   \n",
       "4         7487     javascript  2017-07-31 19:05:03                     92   \n",
       "\n",
       "   user_assessment_age  user_assessment_decay  \n",
       "0                  110               0.124074  \n",
       "1                  109               0.035185  \n",
       "2                  121               0.062222  \n",
       "3                  121               0.110370  \n",
       "4                  121               0.068148  "
      ]
     },
     "execution_count": 21,
     "metadata": {},
     "output_type": "execute_result"
    }
   ],
   "source": [
    "scores.head()"
   ]
  },
  {
   "cell_type": "code",
   "execution_count": 22,
   "metadata": {},
   "outputs": [
    {
     "data": {
      "text/plain": [
       "['../models/scores_decay_scaler']"
      ]
     },
     "execution_count": 22,
     "metadata": {},
     "output_type": "execute_result"
    }
   ],
   "source": [
    "#saving to disk for later use\n",
    "joblib.dump(scores_decay_scaler, '../models/scores_decay_scaler')"
   ]
  },
  {
   "cell_type": "code",
   "execution_count": 23,
   "metadata": {
    "collapsed": true
   },
   "outputs": [],
   "source": [
    "scores.drop(['user_assessment_date', 'user_assessment_score', 'user_assessment_age'], axis=1, inplace=True)"
   ]
  },
  {
   "cell_type": "code",
   "execution_count": 24,
   "metadata": {},
   "outputs": [
    {
     "data": {
      "text/html": [
       "<div>\n",
       "<style>\n",
       "    .dataframe thead tr:only-child th {\n",
       "        text-align: right;\n",
       "    }\n",
       "\n",
       "    .dataframe thead th {\n",
       "        text-align: left;\n",
       "    }\n",
       "\n",
       "    .dataframe tbody tr th {\n",
       "        vertical-align: top;\n",
       "    }\n",
       "</style>\n",
       "<table border=\"1\" class=\"dataframe\">\n",
       "  <thead>\n",
       "    <tr style=\"text-align: right;\">\n",
       "      <th></th>\n",
       "      <th>user_handle</th>\n",
       "      <th>assessment_tag</th>\n",
       "      <th>user_assessment_decay</th>\n",
       "    </tr>\n",
       "  </thead>\n",
       "  <tbody>\n",
       "    <tr>\n",
       "      <th>0</th>\n",
       "      <td>7487</td>\n",
       "      <td>angular-js</td>\n",
       "      <td>0.124074</td>\n",
       "    </tr>\n",
       "    <tr>\n",
       "      <th>1</th>\n",
       "      <td>7487</td>\n",
       "      <td>css</td>\n",
       "      <td>0.035185</td>\n",
       "    </tr>\n",
       "    <tr>\n",
       "      <th>2</th>\n",
       "      <td>7487</td>\n",
       "      <td>html5</td>\n",
       "      <td>0.062222</td>\n",
       "    </tr>\n",
       "    <tr>\n",
       "      <th>3</th>\n",
       "      <td>7487</td>\n",
       "      <td>java</td>\n",
       "      <td>0.110370</td>\n",
       "    </tr>\n",
       "    <tr>\n",
       "      <th>4</th>\n",
       "      <td>7487</td>\n",
       "      <td>javascript</td>\n",
       "      <td>0.068148</td>\n",
       "    </tr>\n",
       "  </tbody>\n",
       "</table>\n",
       "</div>"
      ],
      "text/plain": [
       "   user_handle assessment_tag  user_assessment_decay\n",
       "0         7487     angular-js               0.124074\n",
       "1         7487            css               0.035185\n",
       "2         7487          html5               0.062222\n",
       "3         7487           java               0.110370\n",
       "4         7487     javascript               0.068148"
      ]
     },
     "execution_count": 24,
     "metadata": {},
     "output_type": "execute_result"
    }
   ],
   "source": [
    "scores.head()"
   ]
  },
  {
   "cell_type": "code",
   "execution_count": 25,
   "metadata": {
    "collapsed": true
   },
   "outputs": [],
   "source": [
    "scores_tags = scores.groupby(by='user_handle')['assessment_tag'].apply(list).reset_index()\n",
    "scores_decay = scores.groupby(by='user_handle')['user_assessment_decay'].apply(list).reset_index()"
   ]
  },
  {
   "cell_type": "code",
   "execution_count": 89,
   "metadata": {
    "collapsed": true
   },
   "outputs": [],
   "source": [
    "scores_final = pd.merge(scores_tags, scores_decay, on='user_handle')"
   ]
  },
  {
   "cell_type": "code",
   "execution_count": 90,
   "metadata": {},
   "outputs": [
    {
     "data": {
      "text/html": [
       "<div>\n",
       "<style>\n",
       "    .dataframe thead tr:only-child th {\n",
       "        text-align: right;\n",
       "    }\n",
       "\n",
       "    .dataframe thead th {\n",
       "        text-align: left;\n",
       "    }\n",
       "\n",
       "    .dataframe tbody tr th {\n",
       "        vertical-align: top;\n",
       "    }\n",
       "</style>\n",
       "<table border=\"1\" class=\"dataframe\">\n",
       "  <thead>\n",
       "    <tr style=\"text-align: right;\">\n",
       "      <th></th>\n",
       "      <th>user_handle</th>\n",
       "      <th>assessment_tag</th>\n",
       "      <th>user_assessment_decay</th>\n",
       "    </tr>\n",
       "  </thead>\n",
       "  <tbody>\n",
       "    <tr>\n",
       "      <th>0</th>\n",
       "      <td>2</td>\n",
       "      <td>[photoshop]</td>\n",
       "      <td>[0.0343209876543]</td>\n",
       "    </tr>\n",
       "    <tr>\n",
       "      <th>1</th>\n",
       "      <td>4</td>\n",
       "      <td>[java]</td>\n",
       "      <td>[0.208641975309]</td>\n",
       "    </tr>\n",
       "    <tr>\n",
       "      <th>2</th>\n",
       "      <td>9</td>\n",
       "      <td>[azure-infrastructure-as-a-service]</td>\n",
       "      <td>[0.522222222222]</td>\n",
       "    </tr>\n",
       "    <tr>\n",
       "      <th>3</th>\n",
       "      <td>10</td>\n",
       "      <td>[jquery]</td>\n",
       "      <td>[0.681481481481]</td>\n",
       "    </tr>\n",
       "    <tr>\n",
       "      <th>4</th>\n",
       "      <td>11</td>\n",
       "      <td>[c-plus-plus]</td>\n",
       "      <td>[0.337037037037]</td>\n",
       "    </tr>\n",
       "  </tbody>\n",
       "</table>\n",
       "</div>"
      ],
      "text/plain": [
       "   user_handle                       assessment_tag user_assessment_decay\n",
       "0            2                          [photoshop]     [0.0343209876543]\n",
       "1            4                               [java]      [0.208641975309]\n",
       "2            9  [azure-infrastructure-as-a-service]      [0.522222222222]\n",
       "3           10                             [jquery]      [0.681481481481]\n",
       "4           11                        [c-plus-plus]      [0.337037037037]"
      ]
     },
     "execution_count": 90,
     "metadata": {},
     "output_type": "execute_result"
    }
   ],
   "source": [
    "scores_final.head()"
   ]
  },
  {
   "cell_type": "code",
   "execution_count": 91,
   "metadata": {
    "collapsed": true
   },
   "outputs": [],
   "source": [
    "def expand_scores(row):\n",
    "    tags = row['assessment_tag']\n",
    "    decays = row['user_assessment_decay']\n",
    "    for tag, decay in zip(tags,decays):\n",
    "        row[tag] = decay\n",
    "    return row"
   ]
  },
  {
   "cell_type": "code",
   "execution_count": 92,
   "metadata": {
    "collapsed": true
   },
   "outputs": [],
   "source": [
    "scores_final = scores_final.apply(expand_scores, axis=1)"
   ]
  },
  {
   "cell_type": "code",
   "execution_count": 93,
   "metadata": {},
   "outputs": [
    {
     "data": {
      "text/plain": [
       "(3114, 57)"
      ]
     },
     "execution_count": 93,
     "metadata": {},
     "output_type": "execute_result"
    }
   ],
   "source": [
    "scores_final.shape"
   ]
  },
  {
   "cell_type": "code",
   "execution_count": 94,
   "metadata": {
    "collapsed": true
   },
   "outputs": [],
   "source": [
    "scores_final.fillna(value=0, inplace=True)"
   ]
  },
  {
   "cell_type": "code",
   "execution_count": 95,
   "metadata": {
    "collapsed": true
   },
   "outputs": [],
   "source": [
    "scores_final.drop(['assessment_tag', 'user_assessment_decay'], axis=1, inplace=True)"
   ]
  },
  {
   "cell_type": "code",
   "execution_count": 96,
   "metadata": {},
   "outputs": [
    {
     "data": {
      "text/html": [
       "<div>\n",
       "<style>\n",
       "    .dataframe thead tr:only-child th {\n",
       "        text-align: right;\n",
       "    }\n",
       "\n",
       "    .dataframe thead th {\n",
       "        text-align: left;\n",
       "    }\n",
       "\n",
       "    .dataframe tbody tr th {\n",
       "        vertical-align: top;\n",
       "    }\n",
       "</style>\n",
       "<table border=\"1\" class=\"dataframe\">\n",
       "  <thead>\n",
       "    <tr style=\"text-align: right;\">\n",
       "      <th></th>\n",
       "      <th>3ds-max-environment-modeling</th>\n",
       "      <th>active-directory-administration</th>\n",
       "      <th>after-effects-cc</th>\n",
       "      <th>android</th>\n",
       "      <th>android-associate-developer</th>\n",
       "      <th>angular</th>\n",
       "      <th>angular-js</th>\n",
       "      <th>aspnet-mvc-5</th>\n",
       "      <th>autocad</th>\n",
       "      <th>azure-administrator</th>\n",
       "      <th>...</th>\n",
       "      <th>security-for-hackers-and-developers</th>\n",
       "      <th>sharepoint</th>\n",
       "      <th>solidworks-core-skills</th>\n",
       "      <th>the-scrum-framework</th>\n",
       "      <th>unity-game-development-core-skills</th>\n",
       "      <th>user_handle</th>\n",
       "      <th>using-microsoft-office-2016</th>\n",
       "      <th>video-production</th>\n",
       "      <th>windows-server-management</th>\n",
       "      <th>zbrush-core-skills</th>\n",
       "    </tr>\n",
       "  </thead>\n",
       "  <tbody>\n",
       "    <tr>\n",
       "      <th>0</th>\n",
       "      <td>0.0</td>\n",
       "      <td>0.0</td>\n",
       "      <td>0.0</td>\n",
       "      <td>0.0</td>\n",
       "      <td>0.0</td>\n",
       "      <td>0.0</td>\n",
       "      <td>0.0</td>\n",
       "      <td>0.0</td>\n",
       "      <td>0.0</td>\n",
       "      <td>0.0</td>\n",
       "      <td>...</td>\n",
       "      <td>0.0</td>\n",
       "      <td>0.0</td>\n",
       "      <td>0.0</td>\n",
       "      <td>0.0</td>\n",
       "      <td>0.0</td>\n",
       "      <td>2</td>\n",
       "      <td>0.0</td>\n",
       "      <td>0.0</td>\n",
       "      <td>0.0</td>\n",
       "      <td>0.0</td>\n",
       "    </tr>\n",
       "    <tr>\n",
       "      <th>1</th>\n",
       "      <td>0.0</td>\n",
       "      <td>0.0</td>\n",
       "      <td>0.0</td>\n",
       "      <td>0.0</td>\n",
       "      <td>0.0</td>\n",
       "      <td>0.0</td>\n",
       "      <td>0.0</td>\n",
       "      <td>0.0</td>\n",
       "      <td>0.0</td>\n",
       "      <td>0.0</td>\n",
       "      <td>...</td>\n",
       "      <td>0.0</td>\n",
       "      <td>0.0</td>\n",
       "      <td>0.0</td>\n",
       "      <td>0.0</td>\n",
       "      <td>0.0</td>\n",
       "      <td>4</td>\n",
       "      <td>0.0</td>\n",
       "      <td>0.0</td>\n",
       "      <td>0.0</td>\n",
       "      <td>0.0</td>\n",
       "    </tr>\n",
       "    <tr>\n",
       "      <th>2</th>\n",
       "      <td>0.0</td>\n",
       "      <td>0.0</td>\n",
       "      <td>0.0</td>\n",
       "      <td>0.0</td>\n",
       "      <td>0.0</td>\n",
       "      <td>0.0</td>\n",
       "      <td>0.0</td>\n",
       "      <td>0.0</td>\n",
       "      <td>0.0</td>\n",
       "      <td>0.0</td>\n",
       "      <td>...</td>\n",
       "      <td>0.0</td>\n",
       "      <td>0.0</td>\n",
       "      <td>0.0</td>\n",
       "      <td>0.0</td>\n",
       "      <td>0.0</td>\n",
       "      <td>9</td>\n",
       "      <td>0.0</td>\n",
       "      <td>0.0</td>\n",
       "      <td>0.0</td>\n",
       "      <td>0.0</td>\n",
       "    </tr>\n",
       "    <tr>\n",
       "      <th>3</th>\n",
       "      <td>0.0</td>\n",
       "      <td>0.0</td>\n",
       "      <td>0.0</td>\n",
       "      <td>0.0</td>\n",
       "      <td>0.0</td>\n",
       "      <td>0.0</td>\n",
       "      <td>0.0</td>\n",
       "      <td>0.0</td>\n",
       "      <td>0.0</td>\n",
       "      <td>0.0</td>\n",
       "      <td>...</td>\n",
       "      <td>0.0</td>\n",
       "      <td>0.0</td>\n",
       "      <td>0.0</td>\n",
       "      <td>0.0</td>\n",
       "      <td>0.0</td>\n",
       "      <td>10</td>\n",
       "      <td>0.0</td>\n",
       "      <td>0.0</td>\n",
       "      <td>0.0</td>\n",
       "      <td>0.0</td>\n",
       "    </tr>\n",
       "    <tr>\n",
       "      <th>4</th>\n",
       "      <td>0.0</td>\n",
       "      <td>0.0</td>\n",
       "      <td>0.0</td>\n",
       "      <td>0.0</td>\n",
       "      <td>0.0</td>\n",
       "      <td>0.0</td>\n",
       "      <td>0.0</td>\n",
       "      <td>0.0</td>\n",
       "      <td>0.0</td>\n",
       "      <td>0.0</td>\n",
       "      <td>...</td>\n",
       "      <td>0.0</td>\n",
       "      <td>0.0</td>\n",
       "      <td>0.0</td>\n",
       "      <td>0.0</td>\n",
       "      <td>0.0</td>\n",
       "      <td>11</td>\n",
       "      <td>0.0</td>\n",
       "      <td>0.0</td>\n",
       "      <td>0.0</td>\n",
       "      <td>0.0</td>\n",
       "    </tr>\n",
       "  </tbody>\n",
       "</table>\n",
       "<p>5 rows × 55 columns</p>\n",
       "</div>"
      ],
      "text/plain": [
       "   3ds-max-environment-modeling  active-directory-administration  \\\n",
       "0                           0.0                              0.0   \n",
       "1                           0.0                              0.0   \n",
       "2                           0.0                              0.0   \n",
       "3                           0.0                              0.0   \n",
       "4                           0.0                              0.0   \n",
       "\n",
       "   after-effects-cc  android  android-associate-developer  angular  \\\n",
       "0               0.0      0.0                          0.0      0.0   \n",
       "1               0.0      0.0                          0.0      0.0   \n",
       "2               0.0      0.0                          0.0      0.0   \n",
       "3               0.0      0.0                          0.0      0.0   \n",
       "4               0.0      0.0                          0.0      0.0   \n",
       "\n",
       "   angular-js  aspnet-mvc-5  autocad  azure-administrator         ...          \\\n",
       "0         0.0           0.0      0.0                  0.0         ...           \n",
       "1         0.0           0.0      0.0                  0.0         ...           \n",
       "2         0.0           0.0      0.0                  0.0         ...           \n",
       "3         0.0           0.0      0.0                  0.0         ...           \n",
       "4         0.0           0.0      0.0                  0.0         ...           \n",
       "\n",
       "   security-for-hackers-and-developers  sharepoint  solidworks-core-skills  \\\n",
       "0                                  0.0         0.0                     0.0   \n",
       "1                                  0.0         0.0                     0.0   \n",
       "2                                  0.0         0.0                     0.0   \n",
       "3                                  0.0         0.0                     0.0   \n",
       "4                                  0.0         0.0                     0.0   \n",
       "\n",
       "   the-scrum-framework  unity-game-development-core-skills  user_handle  \\\n",
       "0                  0.0                                 0.0            2   \n",
       "1                  0.0                                 0.0            4   \n",
       "2                  0.0                                 0.0            9   \n",
       "3                  0.0                                 0.0           10   \n",
       "4                  0.0                                 0.0           11   \n",
       "\n",
       "   using-microsoft-office-2016  video-production  windows-server-management  \\\n",
       "0                          0.0               0.0                        0.0   \n",
       "1                          0.0               0.0                        0.0   \n",
       "2                          0.0               0.0                        0.0   \n",
       "3                          0.0               0.0                        0.0   \n",
       "4                          0.0               0.0                        0.0   \n",
       "\n",
       "   zbrush-core-skills  \n",
       "0                 0.0  \n",
       "1                 0.0  \n",
       "2                 0.0  \n",
       "3                 0.0  \n",
       "4                 0.0  \n",
       "\n",
       "[5 rows x 55 columns]"
      ]
     },
     "execution_count": 96,
     "metadata": {},
     "output_type": "execute_result"
    }
   ],
   "source": [
    "scores_final.head()"
   ]
  },
  {
   "cell_type": "markdown",
   "metadata": {},
   "source": [
    "### Views"
   ]
  },
  {
   "cell_type": "code",
   "execution_count": 34,
   "metadata": {},
   "outputs": [
    {
     "data": {
      "text/html": [
       "<div>\n",
       "<style>\n",
       "    .dataframe thead tr:only-child th {\n",
       "        text-align: right;\n",
       "    }\n",
       "\n",
       "    .dataframe thead th {\n",
       "        text-align: left;\n",
       "    }\n",
       "\n",
       "    .dataframe tbody tr th {\n",
       "        vertical-align: top;\n",
       "    }\n",
       "</style>\n",
       "<table border=\"1\" class=\"dataframe\">\n",
       "  <thead>\n",
       "    <tr style=\"text-align: right;\">\n",
       "      <th></th>\n",
       "      <th>user_handle</th>\n",
       "      <th>view_date</th>\n",
       "      <th>course_id</th>\n",
       "      <th>author_handle</th>\n",
       "      <th>level</th>\n",
       "      <th>view_time_seconds</th>\n",
       "    </tr>\n",
       "  </thead>\n",
       "  <tbody>\n",
       "    <tr>\n",
       "      <th>0</th>\n",
       "      <td>1</td>\n",
       "      <td>2017-06-27</td>\n",
       "      <td>cpt-sp2010-web-designers-branding-intro</td>\n",
       "      <td>875</td>\n",
       "      <td>Beginner</td>\n",
       "      <td>3786</td>\n",
       "    </tr>\n",
       "    <tr>\n",
       "      <th>1</th>\n",
       "      <td>1</td>\n",
       "      <td>2017-06-28</td>\n",
       "      <td>cpt-sp2010-web-designers-branding-intro</td>\n",
       "      <td>875</td>\n",
       "      <td>Beginner</td>\n",
       "      <td>1098</td>\n",
       "    </tr>\n",
       "    <tr>\n",
       "      <th>2</th>\n",
       "      <td>1</td>\n",
       "      <td>2017-06-28</td>\n",
       "      <td>cpt-sp2010-web-designers-css</td>\n",
       "      <td>875</td>\n",
       "      <td>Intermediate</td>\n",
       "      <td>4406</td>\n",
       "    </tr>\n",
       "    <tr>\n",
       "      <th>3</th>\n",
       "      <td>1</td>\n",
       "      <td>2017-07-27</td>\n",
       "      <td>cpt-sp2010-web-designers-css</td>\n",
       "      <td>875</td>\n",
       "      <td>Intermediate</td>\n",
       "      <td>553</td>\n",
       "    </tr>\n",
       "    <tr>\n",
       "      <th>4</th>\n",
       "      <td>1</td>\n",
       "      <td>2017-09-12</td>\n",
       "      <td>aws-certified-solutions-architect-professional</td>\n",
       "      <td>281</td>\n",
       "      <td>Advanced</td>\n",
       "      <td>102</td>\n",
       "    </tr>\n",
       "  </tbody>\n",
       "</table>\n",
       "</div>"
      ],
      "text/plain": [
       "   user_handle   view_date                                       course_id  \\\n",
       "0            1  2017-06-27         cpt-sp2010-web-designers-branding-intro   \n",
       "1            1  2017-06-28         cpt-sp2010-web-designers-branding-intro   \n",
       "2            1  2017-06-28                    cpt-sp2010-web-designers-css   \n",
       "3            1  2017-07-27                    cpt-sp2010-web-designers-css   \n",
       "4            1  2017-09-12  aws-certified-solutions-architect-professional   \n",
       "\n",
       "   author_handle         level  view_time_seconds  \n",
       "0            875      Beginner               3786  \n",
       "1            875      Beginner               1098  \n",
       "2            875  Intermediate               4406  \n",
       "3            875  Intermediate                553  \n",
       "4            281      Advanced                102  "
      ]
     },
     "execution_count": 34,
     "metadata": {},
     "output_type": "execute_result"
    }
   ],
   "source": [
    "views.head()"
   ]
  },
  {
   "cell_type": "code",
   "execution_count": 35,
   "metadata": {},
   "outputs": [
    {
     "data": {
      "image/png": "[encoded data removed]",
      "text/plain": [
       "<matplotlib.figure.Figure at 0x10fbee438>"
      ]
     },
     "metadata": {},
     "output_type": "display_data"
    }
   ],
   "source": [
    "plt.hist((views['view_time_seconds']), bins=50)\n",
    "plt.show()"
   ]
  },
  {
   "cell_type": "code",
   "execution_count": 36,
   "metadata": {
    "collapsed": true
   },
   "outputs": [],
   "source": [
    "#Clipping to remove outliers\n",
    "max_val = views['view_time_seconds'].quantile(0.995)\n",
    "views['view_time_seconds'] = np.clip(views['view_time_seconds'], 0 , max_val)"
   ]
  },
  {
   "cell_type": "code",
   "execution_count": 37,
   "metadata": {},
   "outputs": [
    {
     "data": {
      "text/html": [
       "<div>\n",
       "<style>\n",
       "    .dataframe thead tr:only-child th {\n",
       "        text-align: right;\n",
       "    }\n",
       "\n",
       "    .dataframe thead th {\n",
       "        text-align: left;\n",
       "    }\n",
       "\n",
       "    .dataframe tbody tr th {\n",
       "        vertical-align: top;\n",
       "    }\n",
       "</style>\n",
       "<table border=\"1\" class=\"dataframe\">\n",
       "  <thead>\n",
       "    <tr style=\"text-align: right;\">\n",
       "      <th></th>\n",
       "      <th>user_handle</th>\n",
       "      <th>view_date</th>\n",
       "      <th>course_id</th>\n",
       "      <th>author_handle</th>\n",
       "      <th>level</th>\n",
       "      <th>view_time_seconds</th>\n",
       "    </tr>\n",
       "  </thead>\n",
       "  <tbody>\n",
       "    <tr>\n",
       "      <th>0</th>\n",
       "      <td>1</td>\n",
       "      <td>2017-06-27</td>\n",
       "      <td>cpt-sp2010-web-designers-branding-intro</td>\n",
       "      <td>875</td>\n",
       "      <td>Beginner</td>\n",
       "      <td>3786.0</td>\n",
       "    </tr>\n",
       "    <tr>\n",
       "      <th>1</th>\n",
       "      <td>1</td>\n",
       "      <td>2017-06-28</td>\n",
       "      <td>cpt-sp2010-web-designers-branding-intro</td>\n",
       "      <td>875</td>\n",
       "      <td>Beginner</td>\n",
       "      <td>1098.0</td>\n",
       "    </tr>\n",
       "    <tr>\n",
       "      <th>2</th>\n",
       "      <td>1</td>\n",
       "      <td>2017-06-28</td>\n",
       "      <td>cpt-sp2010-web-designers-css</td>\n",
       "      <td>875</td>\n",
       "      <td>Intermediate</td>\n",
       "      <td>4406.0</td>\n",
       "    </tr>\n",
       "    <tr>\n",
       "      <th>3</th>\n",
       "      <td>1</td>\n",
       "      <td>2017-07-27</td>\n",
       "      <td>cpt-sp2010-web-designers-css</td>\n",
       "      <td>875</td>\n",
       "      <td>Intermediate</td>\n",
       "      <td>553.0</td>\n",
       "    </tr>\n",
       "    <tr>\n",
       "      <th>4</th>\n",
       "      <td>1</td>\n",
       "      <td>2017-09-12</td>\n",
       "      <td>aws-certified-solutions-architect-professional</td>\n",
       "      <td>281</td>\n",
       "      <td>Advanced</td>\n",
       "      <td>102.0</td>\n",
       "    </tr>\n",
       "  </tbody>\n",
       "</table>\n",
       "</div>"
      ],
      "text/plain": [
       "   user_handle   view_date                                       course_id  \\\n",
       "0            1  2017-06-27         cpt-sp2010-web-designers-branding-intro   \n",
       "1            1  2017-06-28         cpt-sp2010-web-designers-branding-intro   \n",
       "2            1  2017-06-28                    cpt-sp2010-web-designers-css   \n",
       "3            1  2017-07-27                    cpt-sp2010-web-designers-css   \n",
       "4            1  2017-09-12  aws-certified-solutions-architect-professional   \n",
       "\n",
       "   author_handle         level  view_time_seconds  \n",
       "0            875      Beginner             3786.0  \n",
       "1            875      Beginner             1098.0  \n",
       "2            875  Intermediate             4406.0  \n",
       "3            875  Intermediate              553.0  \n",
       "4            281      Advanced              102.0  "
      ]
     },
     "execution_count": 37,
     "metadata": {},
     "output_type": "execute_result"
    }
   ],
   "source": [
    "views.head()"
   ]
  },
  {
   "cell_type": "code",
   "execution_count": 38,
   "metadata": {
    "collapsed": true
   },
   "outputs": [],
   "source": [
    "#Finding view strength using a decay factor based on view date\n",
    "\n",
    "views['view_date'] = pd.to_datetime(views['view_date'])\n",
    "views['view_age'] = pd.to_datetime(views['view_date'].max() + pd.DateOffset(1)) - views['view_date']\n",
    "views['view_age'] = views['view_age'].apply(lambda x: x.days)\n",
    "views['view_decay'] = 1/(views['view_age']//30 + 1)\n",
    "\n",
    "views['view_stregth'] = views['view_time_seconds'] * views['view_decay']"
   ]
  },
  {
   "cell_type": "code",
   "execution_count": 45,
   "metadata": {},
   "outputs": [
    {
     "data": {
      "text/html": [
       "<div>\n",
       "<style>\n",
       "    .dataframe thead tr:only-child th {\n",
       "        text-align: right;\n",
       "    }\n",
       "\n",
       "    .dataframe thead th {\n",
       "        text-align: left;\n",
       "    }\n",
       "\n",
       "    .dataframe tbody tr th {\n",
       "        vertical-align: top;\n",
       "    }\n",
       "</style>\n",
       "<table border=\"1\" class=\"dataframe\">\n",
       "  <thead>\n",
       "    <tr style=\"text-align: right;\">\n",
       "      <th></th>\n",
       "      <th>user_handle</th>\n",
       "      <th>view_date</th>\n",
       "      <th>course_id</th>\n",
       "      <th>author_handle</th>\n",
       "      <th>level</th>\n",
       "      <th>view_time_seconds</th>\n",
       "      <th>view_age</th>\n",
       "      <th>view_decay</th>\n",
       "      <th>view_stregth</th>\n",
       "    </tr>\n",
       "  </thead>\n",
       "  <tbody>\n",
       "    <tr>\n",
       "      <th>0</th>\n",
       "      <td>1</td>\n",
       "      <td>2017-06-27</td>\n",
       "      <td>cpt-sp2010-web-designers-branding-intro</td>\n",
       "      <td>875</td>\n",
       "      <td>Beginner</td>\n",
       "      <td>3786.0</td>\n",
       "      <td>155</td>\n",
       "      <td>0.166667</td>\n",
       "      <td>9.308339</td>\n",
       "    </tr>\n",
       "    <tr>\n",
       "      <th>1</th>\n",
       "      <td>1</td>\n",
       "      <td>2017-06-28</td>\n",
       "      <td>cpt-sp2010-web-designers-branding-intro</td>\n",
       "      <td>875</td>\n",
       "      <td>Beginner</td>\n",
       "      <td>1098.0</td>\n",
       "      <td>154</td>\n",
       "      <td>0.166667</td>\n",
       "      <td>7.539159</td>\n",
       "    </tr>\n",
       "  </tbody>\n",
       "</table>\n",
       "</div>"
      ],
      "text/plain": [
       "   user_handle  view_date                                course_id  \\\n",
       "0            1 2017-06-27  cpt-sp2010-web-designers-branding-intro   \n",
       "1            1 2017-06-28  cpt-sp2010-web-designers-branding-intro   \n",
       "\n",
       "   author_handle     level  view_time_seconds  view_age  view_decay  \\\n",
       "0            875  Beginner             3786.0       155    0.166667   \n",
       "1            875  Beginner             1098.0       154    0.166667   \n",
       "\n",
       "   view_stregth  \n",
       "0      9.308339  \n",
       "1      7.539159  "
      ]
     },
     "execution_count": 45,
     "metadata": {},
     "output_type": "execute_result"
    }
   ],
   "source": [
    "views.head(2)"
   ]
  },
  {
   "cell_type": "code",
   "execution_count": 46,
   "metadata": {},
   "outputs": [
    {
     "data": {
      "image/png": "[encoded data removed]",
      "text/plain": [
       "<matplotlib.figure.Figure at 0x110df2588>"
      ]
     },
     "metadata": {},
     "output_type": "display_data"
    }
   ],
   "source": [
    "plt.hist((views['view_time_seconds']), bins=50)\n",
    "plt.show()"
   ]
  },
  {
   "cell_type": "code",
   "execution_count": 47,
   "metadata": {},
   "outputs": [
    {
     "data": {
      "image/png": "[encoded data removed]",
      "text/plain": [
       "<matplotlib.figure.Figure at 0x10fbef4e0>"
      ]
     },
     "metadata": {},
     "output_type": "display_data"
    }
   ],
   "source": [
    "plt.hist((np.log2(views['view_stregth']+3)), bins=50)\n",
    "plt.show()"
   ]
  },
  {
   "cell_type": "code",
   "execution_count": 48,
   "metadata": {
    "collapsed": true
   },
   "outputs": [],
   "source": [
    "#Log Transformation for normal distribution from skewed distribution\n",
    "views['view_stregth'] = np.log2(views['view_stregth']+3)"
   ]
  },
  {
   "cell_type": "code",
   "execution_count": 49,
   "metadata": {
    "scrolled": true
   },
   "outputs": [
    {
     "data": {
      "text/html": [
       "<div>\n",
       "<style>\n",
       "    .dataframe thead tr:only-child th {\n",
       "        text-align: right;\n",
       "    }\n",
       "\n",
       "    .dataframe thead th {\n",
       "        text-align: left;\n",
       "    }\n",
       "\n",
       "    .dataframe tbody tr th {\n",
       "        vertical-align: top;\n",
       "    }\n",
       "</style>\n",
       "<table border=\"1\" class=\"dataframe\">\n",
       "  <thead>\n",
       "    <tr style=\"text-align: right;\">\n",
       "      <th></th>\n",
       "      <th>user_handle</th>\n",
       "      <th>view_date</th>\n",
       "      <th>course_id</th>\n",
       "      <th>author_handle</th>\n",
       "      <th>level</th>\n",
       "      <th>view_time_seconds</th>\n",
       "      <th>view_age</th>\n",
       "      <th>view_decay</th>\n",
       "      <th>view_stregth</th>\n",
       "    </tr>\n",
       "  </thead>\n",
       "  <tbody>\n",
       "    <tr>\n",
       "      <th>0</th>\n",
       "      <td>1</td>\n",
       "      <td>2017-06-27</td>\n",
       "      <td>cpt-sp2010-web-designers-branding-intro</td>\n",
       "      <td>875</td>\n",
       "      <td>Beginner</td>\n",
       "      <td>3786.0</td>\n",
       "      <td>155</td>\n",
       "      <td>0.166667</td>\n",
       "      <td>3.621564</td>\n",
       "    </tr>\n",
       "    <tr>\n",
       "      <th>1</th>\n",
       "      <td>1</td>\n",
       "      <td>2017-06-28</td>\n",
       "      <td>cpt-sp2010-web-designers-branding-intro</td>\n",
       "      <td>875</td>\n",
       "      <td>Beginner</td>\n",
       "      <td>1098.0</td>\n",
       "      <td>154</td>\n",
       "      <td>0.166667</td>\n",
       "      <td>3.397688</td>\n",
       "    </tr>\n",
       "  </tbody>\n",
       "</table>\n",
       "</div>"
      ],
      "text/plain": [
       "   user_handle  view_date                                course_id  \\\n",
       "0            1 2017-06-27  cpt-sp2010-web-designers-branding-intro   \n",
       "1            1 2017-06-28  cpt-sp2010-web-designers-branding-intro   \n",
       "\n",
       "   author_handle     level  view_time_seconds  view_age  view_decay  \\\n",
       "0            875  Beginner             3786.0       155    0.166667   \n",
       "1            875  Beginner             1098.0       154    0.166667   \n",
       "\n",
       "   view_stregth  \n",
       "0      3.621564  \n",
       "1      3.397688  "
      ]
     },
     "execution_count": 49,
     "metadata": {},
     "output_type": "execute_result"
    }
   ],
   "source": [
    "views.head(2)"
   ]
  },
  {
   "cell_type": "code",
   "execution_count": 50,
   "metadata": {
    "collapsed": true
   },
   "outputs": [],
   "source": [
    "views_strength_scaler = MinMaxScaler()\n",
    "views['view_stregth'] = views_strength_scaler.fit_transform(views['view_stregth'].values.reshape(-1,1))"
   ]
  },
  {
   "cell_type": "code",
   "execution_count": 51,
   "metadata": {},
   "outputs": [
    {
     "data": {
      "text/plain": [
       "['../models/views_strength_scaler']"
      ]
     },
     "execution_count": 51,
     "metadata": {},
     "output_type": "execute_result"
    }
   ],
   "source": [
    "#saving to disk for later use\n",
    "joblib.dump(views_strength_scaler, '../models/views_strength_scaler')"
   ]
  },
  {
   "cell_type": "code",
   "execution_count": 52,
   "metadata": {},
   "outputs": [
    {
     "data": {
      "text/html": [
       "<div>\n",
       "<style>\n",
       "    .dataframe thead tr:only-child th {\n",
       "        text-align: right;\n",
       "    }\n",
       "\n",
       "    .dataframe thead th {\n",
       "        text-align: left;\n",
       "    }\n",
       "\n",
       "    .dataframe tbody tr th {\n",
       "        vertical-align: top;\n",
       "    }\n",
       "</style>\n",
       "<table border=\"1\" class=\"dataframe\">\n",
       "  <thead>\n",
       "    <tr style=\"text-align: right;\">\n",
       "      <th></th>\n",
       "      <th>user_handle</th>\n",
       "      <th>view_date</th>\n",
       "      <th>course_id</th>\n",
       "      <th>author_handle</th>\n",
       "      <th>level</th>\n",
       "      <th>view_time_seconds</th>\n",
       "      <th>view_age</th>\n",
       "      <th>view_decay</th>\n",
       "      <th>view_stregth</th>\n",
       "    </tr>\n",
       "  </thead>\n",
       "  <tbody>\n",
       "    <tr>\n",
       "      <th>0</th>\n",
       "      <td>1</td>\n",
       "      <td>2017-06-27</td>\n",
       "      <td>cpt-sp2010-web-designers-branding-intro</td>\n",
       "      <td>875</td>\n",
       "      <td>Beginner</td>\n",
       "      <td>3786.0</td>\n",
       "      <td>155</td>\n",
       "      <td>0.166667</td>\n",
       "      <td>0.769309</td>\n",
       "    </tr>\n",
       "    <tr>\n",
       "      <th>1</th>\n",
       "      <td>1</td>\n",
       "      <td>2017-06-28</td>\n",
       "      <td>cpt-sp2010-web-designers-branding-intro</td>\n",
       "      <td>875</td>\n",
       "      <td>Beginner</td>\n",
       "      <td>1098.0</td>\n",
       "      <td>154</td>\n",
       "      <td>0.166667</td>\n",
       "      <td>0.648416</td>\n",
       "    </tr>\n",
       "  </tbody>\n",
       "</table>\n",
       "</div>"
      ],
      "text/plain": [
       "   user_handle  view_date                                course_id  \\\n",
       "0            1 2017-06-27  cpt-sp2010-web-designers-branding-intro   \n",
       "1            1 2017-06-28  cpt-sp2010-web-designers-branding-intro   \n",
       "\n",
       "   author_handle     level  view_time_seconds  view_age  view_decay  \\\n",
       "0            875  Beginner             3786.0       155    0.166667   \n",
       "1            875  Beginner             1098.0       154    0.166667   \n",
       "\n",
       "   view_stregth  \n",
       "0      0.769309  \n",
       "1      0.648416  "
      ]
     },
     "execution_count": 52,
     "metadata": {},
     "output_type": "execute_result"
    }
   ],
   "source": [
    "views.head(2)"
   ]
  },
  {
   "cell_type": "code",
   "execution_count": 53,
   "metadata": {
    "collapsed": true
   },
   "outputs": [],
   "source": [
    "views.drop(['view_date', 'view_time_seconds', 'view_age', 'view_decay' ], axis=1, inplace=True)"
   ]
  },
  {
   "cell_type": "code",
   "execution_count": 54,
   "metadata": {
    "collapsed": true
   },
   "outputs": [],
   "source": [
    "views = views.groupby(by=['user_handle', 'course_id']).max()['view_stregth'].reset_index()"
   ]
  },
  {
   "cell_type": "code",
   "execution_count": 55,
   "metadata": {},
   "outputs": [
    {
     "data": {
      "text/html": [
       "<div>\n",
       "<style>\n",
       "    .dataframe thead tr:only-child th {\n",
       "        text-align: right;\n",
       "    }\n",
       "\n",
       "    .dataframe thead th {\n",
       "        text-align: left;\n",
       "    }\n",
       "\n",
       "    .dataframe tbody tr th {\n",
       "        vertical-align: top;\n",
       "    }\n",
       "</style>\n",
       "<table border=\"1\" class=\"dataframe\">\n",
       "  <thead>\n",
       "    <tr style=\"text-align: right;\">\n",
       "      <th></th>\n",
       "      <th>user_handle</th>\n",
       "      <th>course_id</th>\n",
       "      <th>view_stregth</th>\n",
       "    </tr>\n",
       "  </thead>\n",
       "  <tbody>\n",
       "    <tr>\n",
       "      <th>0</th>\n",
       "      <td>1</td>\n",
       "      <td>aws-certified-solutions-architect-professional</td>\n",
       "      <td>0.453801</td>\n",
       "    </tr>\n",
       "    <tr>\n",
       "      <th>1</th>\n",
       "      <td>1</td>\n",
       "      <td>aws-certified-sysops-admin-associate</td>\n",
       "      <td>0.427664</td>\n",
       "    </tr>\n",
       "    <tr>\n",
       "      <th>2</th>\n",
       "      <td>1</td>\n",
       "      <td>aws-system-admin-fundamentals</td>\n",
       "      <td>0.799812</td>\n",
       "    </tr>\n",
       "    <tr>\n",
       "      <th>3</th>\n",
       "      <td>1</td>\n",
       "      <td>cpt-sp2010-web-designers-branding-intro</td>\n",
       "      <td>0.769309</td>\n",
       "    </tr>\n",
       "    <tr>\n",
       "      <th>4</th>\n",
       "      <td>1</td>\n",
       "      <td>cpt-sp2010-web-designers-css</td>\n",
       "      <td>0.782976</td>\n",
       "    </tr>\n",
       "  </tbody>\n",
       "</table>\n",
       "</div>"
      ],
      "text/plain": [
       "   user_handle                                       course_id  view_stregth\n",
       "0            1  aws-certified-solutions-architect-professional      0.453801\n",
       "1            1            aws-certified-sysops-admin-associate      0.427664\n",
       "2            1                   aws-system-admin-fundamentals      0.799812\n",
       "3            1         cpt-sp2010-web-designers-branding-intro      0.769309\n",
       "4            1                    cpt-sp2010-web-designers-css      0.782976"
      ]
     },
     "execution_count": 55,
     "metadata": {},
     "output_type": "execute_result"
    }
   ],
   "source": [
    "views.head()"
   ]
  },
  {
   "cell_type": "code",
   "execution_count": 56,
   "metadata": {},
   "outputs": [
    {
     "name": "stdout",
     "output_type": "stream",
     "text": [
      "<class 'pandas.core.frame.DataFrame'>\n",
      "RangeIndex: 105353 entries, 0 to 105352\n",
      "Data columns (total 3 columns):\n",
      "user_handle     105353 non-null int64\n",
      "course_id       105353 non-null object\n",
      "view_stregth    105353 non-null float64\n",
      "dtypes: float64(1), int64(1), object(1)\n",
      "memory usage: 2.4+ MB\n"
     ]
    }
   ],
   "source": [
    "views.info()"
   ]
  },
  {
   "cell_type": "markdown",
   "metadata": {
    "collapsed": true
   },
   "source": [
    "### Tags"
   ]
  },
  {
   "cell_type": "code",
   "execution_count": 57,
   "metadata": {},
   "outputs": [
    {
     "data": {
      "text/html": [
       "<div>\n",
       "<style>\n",
       "    .dataframe thead tr:only-child th {\n",
       "        text-align: right;\n",
       "    }\n",
       "\n",
       "    .dataframe thead th {\n",
       "        text-align: left;\n",
       "    }\n",
       "\n",
       "    .dataframe tbody tr th {\n",
       "        vertical-align: top;\n",
       "    }\n",
       "</style>\n",
       "<table border=\"1\" class=\"dataframe\">\n",
       "  <thead>\n",
       "    <tr style=\"text-align: right;\">\n",
       "      <th></th>\n",
       "      <th>course_id</th>\n",
       "      <th>course_tags</th>\n",
       "    </tr>\n",
       "  </thead>\n",
       "  <tbody>\n",
       "    <tr>\n",
       "      <th>0</th>\n",
       "      <td>12-principles-animation-toon-boom-harmony-1475</td>\n",
       "      <td>2d-animation</td>\n",
       "    </tr>\n",
       "    <tr>\n",
       "      <th>1</th>\n",
       "      <td>2d-racing-game-series-unity-5-1312</td>\n",
       "      <td>game-design</td>\n",
       "    </tr>\n",
       "    <tr>\n",
       "      <th>2</th>\n",
       "      <td>2d-racing-games-unity-volume-2-1286</td>\n",
       "      <td>game-art</td>\n",
       "    </tr>\n",
       "    <tr>\n",
       "      <th>3</th>\n",
       "      <td>2d-racing-games-unity-volume-2-1286</td>\n",
       "      <td>digital-painting</td>\n",
       "    </tr>\n",
       "    <tr>\n",
       "      <th>4</th>\n",
       "      <td>2d-racing-games-unity-volume-2-1286</td>\n",
       "      <td>image-editing</td>\n",
       "    </tr>\n",
       "  </tbody>\n",
       "</table>\n",
       "</div>"
      ],
      "text/plain": [
       "                                        course_id       course_tags\n",
       "0  12-principles-animation-toon-boom-harmony-1475      2d-animation\n",
       "1              2d-racing-game-series-unity-5-1312       game-design\n",
       "2             2d-racing-games-unity-volume-2-1286          game-art\n",
       "3             2d-racing-games-unity-volume-2-1286  digital-painting\n",
       "4             2d-racing-games-unity-volume-2-1286     image-editing"
      ]
     },
     "execution_count": 57,
     "metadata": {},
     "output_type": "execute_result"
    }
   ],
   "source": [
    "tags.head()"
   ]
  },
  {
   "cell_type": "code",
   "execution_count": 58,
   "metadata": {},
   "outputs": [
    {
     "name": "stdout",
     "output_type": "stream",
     "text": [
      "<class 'pandas.core.frame.DataFrame'>\n",
      "RangeIndex: 11337 entries, 0 to 11336\n",
      "Data columns (total 2 columns):\n",
      "course_id      11337 non-null object\n",
      "course_tags    11225 non-null object\n",
      "dtypes: object(2)\n",
      "memory usage: 177.2+ KB\n"
     ]
    }
   ],
   "source": [
    "tags.info()"
   ]
  },
  {
   "cell_type": "code",
   "execution_count": 61,
   "metadata": {
    "collapsed": true
   },
   "outputs": [],
   "source": [
    "#Removing missing data\n",
    "tags.dropna(inplace=True)"
   ]
  },
  {
   "cell_type": "code",
   "execution_count": 62,
   "metadata": {},
   "outputs": [
    {
     "name": "stdout",
     "output_type": "stream",
     "text": [
      "<class 'pandas.core.frame.DataFrame'>\n",
      "Int64Index: 11225 entries, 0 to 11336\n",
      "Data columns (total 2 columns):\n",
      "course_id      11225 non-null object\n",
      "course_tags    11225 non-null object\n",
      "dtypes: object(2)\n",
      "memory usage: 263.1+ KB\n"
     ]
    }
   ],
   "source": [
    "tags.info()"
   ]
  },
  {
   "cell_type": "code",
   "execution_count": 63,
   "metadata": {
    "collapsed": true
   },
   "outputs": [],
   "source": [
    "#Grouping tags for each course id\n",
    "tags = tags.groupby(by='course_id')['course_tags'].apply(set).reset_index()"
   ]
  },
  {
   "cell_type": "code",
   "execution_count": 64,
   "metadata": {},
   "outputs": [
    {
     "data": {
      "text/html": [
       "<div>\n",
       "<style>\n",
       "    .dataframe thead tr:only-child th {\n",
       "        text-align: right;\n",
       "    }\n",
       "\n",
       "    .dataframe thead th {\n",
       "        text-align: left;\n",
       "    }\n",
       "\n",
       "    .dataframe tbody tr th {\n",
       "        vertical-align: top;\n",
       "    }\n",
       "</style>\n",
       "<table border=\"1\" class=\"dataframe\">\n",
       "  <thead>\n",
       "    <tr style=\"text-align: right;\">\n",
       "      <th></th>\n",
       "      <th>course_id</th>\n",
       "      <th>course_tags</th>\n",
       "    </tr>\n",
       "  </thead>\n",
       "  <tbody>\n",
       "    <tr>\n",
       "      <th>0</th>\n",
       "      <td>12-principles-animation-toon-boom-harmony-1475</td>\n",
       "      <td>{2d-animation}</td>\n",
       "    </tr>\n",
       "    <tr>\n",
       "      <th>1</th>\n",
       "      <td>2d-racing-game-series-unity-5-1312</td>\n",
       "      <td>{game-design}</td>\n",
       "    </tr>\n",
       "    <tr>\n",
       "      <th>2</th>\n",
       "      <td>2d-racing-games-unity-volume-2-1286</td>\n",
       "      <td>{game-art, image-editing, art-and-design, digi...</td>\n",
       "    </tr>\n",
       "    <tr>\n",
       "      <th>3</th>\n",
       "      <td>2d-racing-games-unity-volume-4-1311</td>\n",
       "      <td>{game-programming, game-design}</td>\n",
       "    </tr>\n",
       "    <tr>\n",
       "      <th>4</th>\n",
       "      <td>3d-coat-character-concept-sculpting-techniques...</td>\n",
       "      <td>{3d-sculpting, character-modeling, character-s...</td>\n",
       "    </tr>\n",
       "  </tbody>\n",
       "</table>\n",
       "</div>"
      ],
      "text/plain": [
       "                                           course_id  \\\n",
       "0     12-principles-animation-toon-boom-harmony-1475   \n",
       "1                 2d-racing-game-series-unity-5-1312   \n",
       "2                2d-racing-games-unity-volume-2-1286   \n",
       "3                2d-racing-games-unity-volume-4-1311   \n",
       "4  3d-coat-character-concept-sculpting-techniques...   \n",
       "\n",
       "                                         course_tags  \n",
       "0                                     {2d-animation}  \n",
       "1                                      {game-design}  \n",
       "2  {game-art, image-editing, art-and-design, digi...  \n",
       "3                    {game-programming, game-design}  \n",
       "4  {3d-sculpting, character-modeling, character-s...  "
      ]
     },
     "execution_count": 64,
     "metadata": {},
     "output_type": "execute_result"
    }
   ],
   "source": [
    "tags.head()"
   ]
  },
  {
   "cell_type": "code",
   "execution_count": 65,
   "metadata": {},
   "outputs": [
    {
     "data": {
      "text/plain": [
       "5942"
      ]
     },
     "execution_count": 65,
     "metadata": {},
     "output_type": "execute_result"
    }
   ],
   "source": [
    "views.course_id.nunique()"
   ]
  },
  {
   "cell_type": "markdown",
   "metadata": {},
   "source": [
    "### Views-Tags Merge "
   ]
  },
  {
   "cell_type": "code",
   "execution_count": 66,
   "metadata": {
    "collapsed": true
   },
   "outputs": [],
   "source": [
    "views = pd.merge(views, tags, on='course_id')"
   ]
  },
  {
   "cell_type": "code",
   "execution_count": 67,
   "metadata": {},
   "outputs": [
    {
     "data": {
      "text/html": [
       "<div>\n",
       "<style>\n",
       "    .dataframe thead tr:only-child th {\n",
       "        text-align: right;\n",
       "    }\n",
       "\n",
       "    .dataframe thead th {\n",
       "        text-align: left;\n",
       "    }\n",
       "\n",
       "    .dataframe tbody tr th {\n",
       "        vertical-align: top;\n",
       "    }\n",
       "</style>\n",
       "<table border=\"1\" class=\"dataframe\">\n",
       "  <thead>\n",
       "    <tr style=\"text-align: right;\">\n",
       "      <th></th>\n",
       "      <th>user_handle</th>\n",
       "      <th>course_id</th>\n",
       "      <th>view_stregth</th>\n",
       "      <th>course_tags</th>\n",
       "    </tr>\n",
       "  </thead>\n",
       "  <tbody>\n",
       "    <tr>\n",
       "      <th>0</th>\n",
       "      <td>1</td>\n",
       "      <td>aws-certified-solutions-architect-professional</td>\n",
       "      <td>0.453801</td>\n",
       "      <td>{cloud-computing, cloud-services}</td>\n",
       "    </tr>\n",
       "    <tr>\n",
       "      <th>1</th>\n",
       "      <td>13</td>\n",
       "      <td>aws-certified-solutions-architect-professional</td>\n",
       "      <td>0.792471</td>\n",
       "      <td>{cloud-computing, cloud-services}</td>\n",
       "    </tr>\n",
       "    <tr>\n",
       "      <th>2</th>\n",
       "      <td>142</td>\n",
       "      <td>aws-certified-solutions-architect-professional</td>\n",
       "      <td>0.810496</td>\n",
       "      <td>{cloud-computing, cloud-services}</td>\n",
       "    </tr>\n",
       "    <tr>\n",
       "      <th>3</th>\n",
       "      <td>349</td>\n",
       "      <td>aws-certified-solutions-architect-professional</td>\n",
       "      <td>0.723625</td>\n",
       "      <td>{cloud-computing, cloud-services}</td>\n",
       "    </tr>\n",
       "    <tr>\n",
       "      <th>4</th>\n",
       "      <td>412</td>\n",
       "      <td>aws-certified-solutions-architect-professional</td>\n",
       "      <td>0.667060</td>\n",
       "      <td>{cloud-computing, cloud-services}</td>\n",
       "    </tr>\n",
       "  </tbody>\n",
       "</table>\n",
       "</div>"
      ],
      "text/plain": [
       "   user_handle                                       course_id  view_stregth  \\\n",
       "0            1  aws-certified-solutions-architect-professional      0.453801   \n",
       "1           13  aws-certified-solutions-architect-professional      0.792471   \n",
       "2          142  aws-certified-solutions-architect-professional      0.810496   \n",
       "3          349  aws-certified-solutions-architect-professional      0.723625   \n",
       "4          412  aws-certified-solutions-architect-professional      0.667060   \n",
       "\n",
       "                         course_tags  \n",
       "0  {cloud-computing, cloud-services}  \n",
       "1  {cloud-computing, cloud-services}  \n",
       "2  {cloud-computing, cloud-services}  \n",
       "3  {cloud-computing, cloud-services}  \n",
       "4  {cloud-computing, cloud-services}  "
      ]
     },
     "execution_count": 67,
     "metadata": {},
     "output_type": "execute_result"
    }
   ],
   "source": [
    "views.head()"
   ]
  },
  {
   "cell_type": "code",
   "execution_count": 68,
   "metadata": {},
   "outputs": [
    {
     "data": {
      "text/html": [
       "<div>\n",
       "<style>\n",
       "    .dataframe thead tr:only-child th {\n",
       "        text-align: right;\n",
       "    }\n",
       "\n",
       "    .dataframe thead th {\n",
       "        text-align: left;\n",
       "    }\n",
       "\n",
       "    .dataframe tbody tr th {\n",
       "        vertical-align: top;\n",
       "    }\n",
       "</style>\n",
       "<table border=\"1\" class=\"dataframe\">\n",
       "  <thead>\n",
       "    <tr style=\"text-align: right;\">\n",
       "      <th></th>\n",
       "      <th>user_handle</th>\n",
       "      <th>course_id</th>\n",
       "      <th>view_stregth</th>\n",
       "      <th>course_tags</th>\n",
       "    </tr>\n",
       "  </thead>\n",
       "  <tbody>\n",
       "    <tr>\n",
       "      <th>0</th>\n",
       "      <td>1</td>\n",
       "      <td>aws-certified-solutions-architect-professional</td>\n",
       "      <td>0.453801</td>\n",
       "      <td>{cloud-computing, cloud-services}</td>\n",
       "    </tr>\n",
       "    <tr>\n",
       "      <th>68</th>\n",
       "      <td>1</td>\n",
       "      <td>aws-certified-sysops-admin-associate</td>\n",
       "      <td>0.427664</td>\n",
       "      <td>{cloud-computing, iaas}</td>\n",
       "    </tr>\n",
       "    <tr>\n",
       "      <th>141</th>\n",
       "      <td>1</td>\n",
       "      <td>aws-system-admin-fundamentals</td>\n",
       "      <td>0.799812</td>\n",
       "      <td>{cloud-computing, cloud-services}</td>\n",
       "    </tr>\n",
       "    <tr>\n",
       "      <th>348</th>\n",
       "      <td>1</td>\n",
       "      <td>cpt-sp2010-web-designers-branding-intro</td>\n",
       "      <td>0.769309</td>\n",
       "      <td>{sharepoint}</td>\n",
       "    </tr>\n",
       "    <tr>\n",
       "      <th>356</th>\n",
       "      <td>1</td>\n",
       "      <td>cpt-sp2010-web-designers-css</td>\n",
       "      <td>0.782976</td>\n",
       "      <td>{sharepoint}</td>\n",
       "    </tr>\n",
       "    <tr>\n",
       "      <th>357</th>\n",
       "      <td>1</td>\n",
       "      <td>react-js-getting-started</td>\n",
       "      <td>0.859181</td>\n",
       "      <td>{react.js, javascript-libraries}</td>\n",
       "    </tr>\n",
       "  </tbody>\n",
       "</table>\n",
       "</div>"
      ],
      "text/plain": [
       "     user_handle                                       course_id  \\\n",
       "0              1  aws-certified-solutions-architect-professional   \n",
       "68             1            aws-certified-sysops-admin-associate   \n",
       "141            1                   aws-system-admin-fundamentals   \n",
       "348            1         cpt-sp2010-web-designers-branding-intro   \n",
       "356            1                    cpt-sp2010-web-designers-css   \n",
       "357            1                        react-js-getting-started   \n",
       "\n",
       "     view_stregth                        course_tags  \n",
       "0        0.453801  {cloud-computing, cloud-services}  \n",
       "68       0.427664            {cloud-computing, iaas}  \n",
       "141      0.799812  {cloud-computing, cloud-services}  \n",
       "348      0.769309                       {sharepoint}  \n",
       "356      0.782976                       {sharepoint}  \n",
       "357      0.859181   {react.js, javascript-libraries}  "
      ]
     },
     "execution_count": 68,
     "metadata": {},
     "output_type": "execute_result"
    }
   ],
   "source": [
    "views[views['user_handle'] == 1]"
   ]
  },
  {
   "cell_type": "code",
   "execution_count": 69,
   "metadata": {
    "collapsed": true
   },
   "outputs": [],
   "source": [
    "views = views.sort_values(by=['user_handle', 'view_stregth'])"
   ]
  },
  {
   "cell_type": "code",
   "execution_count": 70,
   "metadata": {
    "collapsed": true
   },
   "outputs": [],
   "source": [
    "views_course = views.groupby(by='user_handle')['course_id'].apply(list).reset_index()\n",
    "views_strength = views.groupby(by='user_handle')['view_stregth'].apply(list).reset_index()"
   ]
  },
  {
   "cell_type": "code",
   "execution_count": 71,
   "metadata": {
    "collapsed": true
   },
   "outputs": [],
   "source": [
    "views_tags= views.groupby(by='user_handle')['course_tags'].apply(list).reset_index()"
   ]
  },
  {
   "cell_type": "code",
   "execution_count": 72,
   "metadata": {
    "collapsed": true
   },
   "outputs": [],
   "source": [
    "views_df = pd.merge(views_course, views_strength, on='user_handle')\n",
    "views_df = pd.merge(views_df, views_tags, on='user_handle')"
   ]
  },
  {
   "cell_type": "code",
   "execution_count": 73,
   "metadata": {},
   "outputs": [
    {
     "data": {
      "text/html": [
       "<div>\n",
       "<style>\n",
       "    .dataframe thead tr:only-child th {\n",
       "        text-align: right;\n",
       "    }\n",
       "\n",
       "    .dataframe thead th {\n",
       "        text-align: left;\n",
       "    }\n",
       "\n",
       "    .dataframe tbody tr th {\n",
       "        vertical-align: top;\n",
       "    }\n",
       "</style>\n",
       "<table border=\"1\" class=\"dataframe\">\n",
       "  <thead>\n",
       "    <tr style=\"text-align: right;\">\n",
       "      <th></th>\n",
       "      <th>user_handle</th>\n",
       "      <th>course_id</th>\n",
       "      <th>view_stregth</th>\n",
       "      <th>course_tags</th>\n",
       "    </tr>\n",
       "  </thead>\n",
       "  <tbody>\n",
       "    <tr>\n",
       "      <th>0</th>\n",
       "      <td>1</td>\n",
       "      <td>[aws-certified-sysops-admin-associate, aws-cer...</td>\n",
       "      <td>[0.427663910487, 0.453800660312, 0.76930905169...</td>\n",
       "      <td>[{cloud-computing, iaas}, {cloud-computing, cl...</td>\n",
       "    </tr>\n",
       "    <tr>\n",
       "      <th>1</th>\n",
       "      <td>2</td>\n",
       "      <td>[introduction-unity-5-2046, after-effects-cc-2...</td>\n",
       "      <td>[0.27364928176, 0.299800405106, 0.303909038965...</td>\n",
       "      <td>[{game-programming}, {marketing}, {compositing...</td>\n",
       "    </tr>\n",
       "    <tr>\n",
       "      <th>2</th>\n",
       "      <td>3</td>\n",
       "      <td>[java-fundamentals-language, building-realtime...</td>\n",
       "      <td>[0.672522284808, 0.686424567907]</td>\n",
       "      <td>[{java}, {angular, real-time-communication}]</td>\n",
       "    </tr>\n",
       "    <tr>\n",
       "      <th>3</th>\n",
       "      <td>4</td>\n",
       "      <td>[python-understanding-machine-learning, aws-ce...</td>\n",
       "      <td>[0.363381765434, 0.447724898421, 0.52424806362...</td>\n",
       "      <td>[{data-science, machine-learning}, {cloud-comp...</td>\n",
       "    </tr>\n",
       "    <tr>\n",
       "      <th>4</th>\n",
       "      <td>5</td>\n",
       "      <td>[transitioning-from-live-action-footage-cell-s...</td>\n",
       "      <td>[0.321358887092, 0.446942752694, 0.53897067245...</td>\n",
       "      <td>[{motion-graphics}, {2d-animation, character-a...</td>\n",
       "    </tr>\n",
       "  </tbody>\n",
       "</table>\n",
       "</div>"
      ],
      "text/plain": [
       "   user_handle                                          course_id  \\\n",
       "0            1  [aws-certified-sysops-admin-associate, aws-cer...   \n",
       "1            2  [introduction-unity-5-2046, after-effects-cc-2...   \n",
       "2            3  [java-fundamentals-language, building-realtime...   \n",
       "3            4  [python-understanding-machine-learning, aws-ce...   \n",
       "4            5  [transitioning-from-live-action-footage-cell-s...   \n",
       "\n",
       "                                        view_stregth  \\\n",
       "0  [0.427663910487, 0.453800660312, 0.76930905169...   \n",
       "1  [0.27364928176, 0.299800405106, 0.303909038965...   \n",
       "2                   [0.672522284808, 0.686424567907]   \n",
       "3  [0.363381765434, 0.447724898421, 0.52424806362...   \n",
       "4  [0.321358887092, 0.446942752694, 0.53897067245...   \n",
       "\n",
       "                                         course_tags  \n",
       "0  [{cloud-computing, iaas}, {cloud-computing, cl...  \n",
       "1  [{game-programming}, {marketing}, {compositing...  \n",
       "2       [{java}, {angular, real-time-communication}]  \n",
       "3  [{data-science, machine-learning}, {cloud-comp...  \n",
       "4  [{motion-graphics}, {2d-animation, character-a...  "
      ]
     },
     "execution_count": 73,
     "metadata": {},
     "output_type": "execute_result"
    }
   ],
   "source": [
    "views_df.head()"
   ]
  },
  {
   "cell_type": "code",
   "execution_count": 74,
   "metadata": {
    "collapsed": true
   },
   "outputs": [],
   "source": [
    "import collections\n",
    "\n",
    "def expand_views_record(row):\n",
    "    course_ids = row['course_id']\n",
    "    view_stregths = row['view_stregth']\n",
    "    tags = row['course_tags']\n",
    "    \n",
    "    tag_strengths = collections.defaultdict(list)\n",
    "    for course, strength, ctags in zip(course_ids, view_stregths, tags):\n",
    "        row[course] = strength\n",
    "        for tag in ctags:\n",
    "            tag_strengths[tag].append(strength)\n",
    "\n",
    "    for tag, values in tag_strengths.items():\n",
    "        row[tag] = np.max(values)\n",
    "\n",
    "    return row"
   ]
  },
  {
   "cell_type": "code",
   "execution_count": 75,
   "metadata": {
    "collapsed": true
   },
   "outputs": [],
   "source": [
    "views_final = views_df.apply(expand_views_record, axis=1)"
   ]
  },
  {
   "cell_type": "code",
   "execution_count": 76,
   "metadata": {
    "collapsed": true
   },
   "outputs": [],
   "source": [
    "views_final.fillna(value=0, inplace=True)"
   ]
  },
  {
   "cell_type": "code",
   "execution_count": 77,
   "metadata": {
    "collapsed": true
   },
   "outputs": [],
   "source": [
    "views_final.drop(['course_id','view_stregth','course_tags'], axis=1, inplace=True)"
   ]
  },
  {
   "cell_type": "code",
   "execution_count": 88,
   "metadata": {},
   "outputs": [
    {
     "data": {
      "text/plain": [
       "(8742, 6786)"
      ]
     },
     "execution_count": 88,
     "metadata": {},
     "output_type": "execute_result"
    }
   ],
   "source": [
    "views_final.shape"
   ]
  },
  {
   "cell_type": "markdown",
   "metadata": {},
   "source": [
    "### Interests"
   ]
  },
  {
   "cell_type": "code",
   "execution_count": 79,
   "metadata": {},
   "outputs": [
    {
     "data": {
      "text/html": [
       "<div>\n",
       "<style>\n",
       "    .dataframe thead tr:only-child th {\n",
       "        text-align: right;\n",
       "    }\n",
       "\n",
       "    .dataframe thead th {\n",
       "        text-align: left;\n",
       "    }\n",
       "\n",
       "    .dataframe tbody tr th {\n",
       "        vertical-align: top;\n",
       "    }\n",
       "</style>\n",
       "<table border=\"1\" class=\"dataframe\">\n",
       "  <thead>\n",
       "    <tr style=\"text-align: right;\">\n",
       "      <th></th>\n",
       "      <th>user_handle</th>\n",
       "      <th>interest_tag</th>\n",
       "      <th>date_followed</th>\n",
       "    </tr>\n",
       "  </thead>\n",
       "  <tbody>\n",
       "    <tr>\n",
       "      <th>0</th>\n",
       "      <td>1</td>\n",
       "      <td>mvc-scaffolding</td>\n",
       "      <td>2017-06-27 16:26:52</td>\n",
       "    </tr>\n",
       "    <tr>\n",
       "      <th>1</th>\n",
       "      <td>1</td>\n",
       "      <td>mvc2</td>\n",
       "      <td>2017-06-27 16:26:52</td>\n",
       "    </tr>\n",
       "    <tr>\n",
       "      <th>2</th>\n",
       "      <td>1</td>\n",
       "      <td>mvc-html-helpers</td>\n",
       "      <td>2017-06-27 16:26:52</td>\n",
       "    </tr>\n",
       "    <tr>\n",
       "      <th>3</th>\n",
       "      <td>1</td>\n",
       "      <td>mvc4-ioc</td>\n",
       "      <td>2017-06-27 16:26:52</td>\n",
       "    </tr>\n",
       "    <tr>\n",
       "      <th>4</th>\n",
       "      <td>1</td>\n",
       "      <td>mvc-testing</td>\n",
       "      <td>2017-06-27 16:26:52</td>\n",
       "    </tr>\n",
       "  </tbody>\n",
       "</table>\n",
       "</div>"
      ],
      "text/plain": [
       "   user_handle      interest_tag        date_followed\n",
       "0            1   mvc-scaffolding  2017-06-27 16:26:52\n",
       "1            1              mvc2  2017-06-27 16:26:52\n",
       "2            1  mvc-html-helpers  2017-06-27 16:26:52\n",
       "3            1          mvc4-ioc  2017-06-27 16:26:52\n",
       "4            1       mvc-testing  2017-06-27 16:26:52"
      ]
     },
     "execution_count": 79,
     "metadata": {},
     "output_type": "execute_result"
    }
   ],
   "source": [
    "interests.head()"
   ]
  },
  {
   "cell_type": "code",
   "execution_count": 80,
   "metadata": {
    "collapsed": true
   },
   "outputs": [],
   "source": [
    "interests['date_followed']= pd.to_datetime(interests['date_followed'])\n",
    "interests['interest_age'] = pd.to_datetime(interests['date_followed'].max() + pd.DateOffset(1)) - interests['date_followed']\n",
    "interests['interest_age'] = interests['interest_age'].apply(lambda x: x.days)\n",
    "interests['interest_decay'] = (1/interests['interest_age']//30 + 1)"
   ]
  },
  {
   "cell_type": "code",
   "execution_count": 81,
   "metadata": {
    "collapsed": true
   },
   "outputs": [],
   "source": [
    "interests.drop(['date_followed','interest_age'], axis=1, inplace=True)"
   ]
  },
  {
   "cell_type": "code",
   "execution_count": 82,
   "metadata": {
    "collapsed": true
   },
   "outputs": [],
   "source": [
    "interests_tag = interests.groupby(by='user_handle')['interest_tag'].apply(list).reset_index()\n",
    "interests_decay = interests.groupby(by='user_handle')['interest_decay'].apply(list).reset_index()\n",
    "interests = pd.merge(interests_tag, interests_decay, on='user_handle')"
   ]
  },
  {
   "cell_type": "code",
   "execution_count": 83,
   "metadata": {},
   "outputs": [
    {
     "data": {
      "text/html": [
       "<div>\n",
       "<style>\n",
       "    .dataframe thead tr:only-child th {\n",
       "        text-align: right;\n",
       "    }\n",
       "\n",
       "    .dataframe thead th {\n",
       "        text-align: left;\n",
       "    }\n",
       "\n",
       "    .dataframe tbody tr th {\n",
       "        vertical-align: top;\n",
       "    }\n",
       "</style>\n",
       "<table border=\"1\" class=\"dataframe\">\n",
       "  <thead>\n",
       "    <tr style=\"text-align: right;\">\n",
       "      <th></th>\n",
       "      <th>user_handle</th>\n",
       "      <th>interest_tag</th>\n",
       "      <th>interest_decay</th>\n",
       "    </tr>\n",
       "  </thead>\n",
       "  <tbody>\n",
       "    <tr>\n",
       "      <th>0</th>\n",
       "      <td>1</td>\n",
       "      <td>[mvc-scaffolding, mvc2, mvc-html-helpers, mvc4...</td>\n",
       "      <td>[1.0, 1.0, 1.0, 1.0, 1.0, 1.0, 1.0, 1.0, 1.0, ...</td>\n",
       "    </tr>\n",
       "    <tr>\n",
       "      <th>1</th>\n",
       "      <td>2</td>\n",
       "      <td>[zbrush, maya, 3ds-max, adobe]</td>\n",
       "      <td>[1.0, 1.0, 1.0, 1.0]</td>\n",
       "    </tr>\n",
       "    <tr>\n",
       "      <th>2</th>\n",
       "      <td>3</td>\n",
       "      <td>[angular, design-patterns, java, react.js, pyt...</td>\n",
       "      <td>[1.0, 1.0, 1.0, 1.0, 1.0, 1.0, 1.0, 1.0, 1.0, ...</td>\n",
       "    </tr>\n",
       "    <tr>\n",
       "      <th>3</th>\n",
       "      <td>4</td>\n",
       "      <td>[python, data-analysis, machine-learning, data...</td>\n",
       "      <td>[1.0, 1.0, 1.0, 1.0, 1.0, 1.0]</td>\n",
       "    </tr>\n",
       "    <tr>\n",
       "      <th>4</th>\n",
       "      <td>5</td>\n",
       "      <td>[adobe, maya, zbrush, 3d-animation, 3d-modelin...</td>\n",
       "      <td>[1.0, 1.0, 1.0, 1.0, 1.0, 1.0, 1.0, 1.0, 1.0, ...</td>\n",
       "    </tr>\n",
       "  </tbody>\n",
       "</table>\n",
       "</div>"
      ],
      "text/plain": [
       "   user_handle                                       interest_tag  \\\n",
       "0            1  [mvc-scaffolding, mvc2, mvc-html-helpers, mvc4...   \n",
       "1            2                     [zbrush, maya, 3ds-max, adobe]   \n",
       "2            3  [angular, design-patterns, java, react.js, pyt...   \n",
       "3            4  [python, data-analysis, machine-learning, data...   \n",
       "4            5  [adobe, maya, zbrush, 3d-animation, 3d-modelin...   \n",
       "\n",
       "                                      interest_decay  \n",
       "0  [1.0, 1.0, 1.0, 1.0, 1.0, 1.0, 1.0, 1.0, 1.0, ...  \n",
       "1                               [1.0, 1.0, 1.0, 1.0]  \n",
       "2  [1.0, 1.0, 1.0, 1.0, 1.0, 1.0, 1.0, 1.0, 1.0, ...  \n",
       "3                     [1.0, 1.0, 1.0, 1.0, 1.0, 1.0]  \n",
       "4  [1.0, 1.0, 1.0, 1.0, 1.0, 1.0, 1.0, 1.0, 1.0, ...  "
      ]
     },
     "execution_count": 83,
     "metadata": {},
     "output_type": "execute_result"
    }
   ],
   "source": [
    "interests.head()"
   ]
  },
  {
   "cell_type": "code",
   "execution_count": 84,
   "metadata": {
    "collapsed": true
   },
   "outputs": [],
   "source": [
    "def expand_interests(row):\n",
    "    tags = row['interest_tag']\n",
    "    decays = row['interest_decay']\n",
    "    \n",
    "    for tag, decay in zip(tags, decays):\n",
    "        row[tag] = decay\n",
    "        \n",
    "    return row"
   ]
  },
  {
   "cell_type": "code",
   "execution_count": 85,
   "metadata": {
    "collapsed": true
   },
   "outputs": [],
   "source": [
    "interests_final = interests.apply(expand_interests, axis=1)"
   ]
  },
  {
   "cell_type": "code",
   "execution_count": 86,
   "metadata": {
    "collapsed": true
   },
   "outputs": [],
   "source": [
    "interests_final.fillna(value=0, axis=1, inplace=True)"
   ]
  },
  {
   "cell_type": "code",
   "execution_count": 109,
   "metadata": {},
   "outputs": [],
   "source": [
    "interests_final.drop(['interest_tag', 'interest_decay'], axis=1, inplace=True)"
   ]
  },
  {
   "cell_type": "code",
   "execution_count": 87,
   "metadata": {},
   "outputs": [
    {
     "data": {
      "text/plain": [
       "(10000, 751)"
      ]
     },
     "execution_count": 87,
     "metadata": {},
     "output_type": "execute_result"
    }
   ],
   "source": [
    "interests_final.shape"
   ]
  },
  {
   "cell_type": "markdown",
   "metadata": {},
   "source": [
    "### User feature vector and similarity"
   ]
  },
  {
   "cell_type": "code",
   "execution_count": 111,
   "metadata": {
    "collapsed": true
   },
   "outputs": [],
   "source": [
    "users = pd.merge(scores_final, views_final, how='outer', on='user_handle')\n",
    "users = pd.merge(users, interests_final, how='outer', on='user_handle')"
   ]
  },
  {
   "cell_type": "code",
   "execution_count": 112,
   "metadata": {},
   "outputs": [
    {
     "data": {
      "text/plain": [
       "(10000, 7588)"
      ]
     },
     "execution_count": 112,
     "metadata": {},
     "output_type": "execute_result"
    }
   ],
   "source": [
    "users.shape"
   ]
  },
  {
   "cell_type": "code",
   "execution_count": 113,
   "metadata": {},
   "outputs": [],
   "source": [
    "users.fillna(value=0, inplace=True)\n",
    "users.set_index('user_handle', inplace=True)"
   ]
  },
  {
   "cell_type": "code",
   "execution_count": 114,
   "metadata": {},
   "outputs": [
    {
     "name": "stdout",
     "output_type": "stream",
     "text": [
      "<class 'pandas.core.frame.DataFrame'>\n",
      "Int64Index: 10000 entries, 2 to 9971\n",
      "Columns: 7587 entries, 3ds-max-environment-modeling to zbrush\n",
      "dtypes: float64(7587)\n",
      "memory usage: 578.9 MB\n"
     ]
    }
   ],
   "source": [
    "users.info()"
   ]
  },
  {
   "cell_type": "code",
   "execution_count": 115,
   "metadata": {},
   "outputs": [],
   "source": [
    "sim_matrix = pd.DataFrame(cosine_similarity(users), index=users.index, columns=users.index)"
   ]
  },
  {
   "cell_type": "code",
   "execution_count": 116,
   "metadata": {},
   "outputs": [
    {
     "name": "stdout",
     "output_type": "stream",
     "text": [
      "<class 'pandas.core.frame.DataFrame'>\n",
      "Int64Index: 10000 entries, 2 to 9971\n",
      "Columns: 10000 entries, 2 to 9971\n",
      "dtypes: float64(10000)\n",
      "memory usage: 763.3 MB\n"
     ]
    }
   ],
   "source": [
    "sim_matrix.info()"
   ]
  },
  {
   "cell_type": "markdown",
   "metadata": {},
   "source": [
    "#### Testing"
   ]
  },
  {
   "cell_type": "code",
   "execution_count": 117,
   "metadata": {},
   "outputs": [
    {
     "data": {
      "text/plain": [
       "user_handle\n",
       "30      1.000000\n",
       "7158    0.741210\n",
       "8393    0.730284\n",
       "330     0.712603\n",
       "4114    0.706199\n",
       "2720    0.705545\n",
       "6100    0.663503\n",
       "3063    0.663161\n",
       "1662    0.661143\n",
       "3007    0.657103\n",
       "Name: 30, dtype: float64"
      ]
     },
     "execution_count": 117,
     "metadata": {},
     "output_type": "execute_result"
    }
   ],
   "source": [
    "sim_matrix.loc[30].sort_values(ascending=False)[:10]"
   ]
  },
  {
   "cell_type": "code",
   "execution_count": 120,
   "metadata": {},
   "outputs": [
    {
     "data": {
      "text/plain": [
       "(array([], dtype=object),\n",
       " array(['r-data-science'], dtype=object),\n",
       " array(['big-data', 'data-science', 'data-visualization', 'performance',\n",
       "        'performance-optimization', 'machine-learning',\n",
       "        'database-administration'], dtype=object))"
      ]
     },
     "execution_count": 120,
     "metadata": {},
     "output_type": "execute_result"
    }
   ],
   "source": [
    "user_id = 30\n",
    "scores[scores['user_handle'] == user_id]['assessment_tag'].unique(),\\\n",
    "views[views['user_handle'] == user_id]['course_id'].unique(),\\\n",
    "interests[interests['user_handle'] == user_id]['interest_tag'].unique()"
   ]
  },
  {
   "cell_type": "code",
   "execution_count": 121,
   "metadata": {},
   "outputs": [
    {
     "data": {
      "text/plain": [
       "(array([], dtype=object),\n",
       " array(['r-data-science'], dtype=object),\n",
       " array(['data-science', 'machine-learning', 'data-visualization',\n",
       "        'data-analysis', 'big-data', 'r-framework', 'business-intelligence'], dtype=object))"
      ]
     },
     "execution_count": 121,
     "metadata": {},
     "output_type": "execute_result"
    }
   ],
   "source": [
    "user_id = 7158\n",
    "scores[scores['user_handle'] == user_id]['assessment_tag'].unique(),\\\n",
    "views[views['user_handle'] == user_id]['course_id'].unique(),\\\n",
    "interests[interests['user_handle'] == user_id]['interest_tag'].unique()"
   ]
  },
  {
   "cell_type": "code",
   "execution_count": 122,
   "metadata": {},
   "outputs": [
    {
     "data": {
      "text/plain": [
       "(array([], dtype=object),\n",
       " array(['r-data-science'], dtype=object),\n",
       " array(['data-analysis', 'python', 'data-science', 'data-visualization',\n",
       "        'sql', 'machine-learning', 'big-data', 'business-intelligence'], dtype=object))"
      ]
     },
     "execution_count": 122,
     "metadata": {},
     "output_type": "execute_result"
    }
   ],
   "source": [
    "user_id = 8393\n",
    "scores[scores['user_handle'] == user_id]['assessment_tag'].unique(),\\\n",
    "views[views['user_handle'] == user_id]['course_id'].unique(),\\\n",
    "interests[interests['user_handle'] == user_id]['interest_tag'].unique()"
   ]
  },
  {
   "cell_type": "code",
   "execution_count": 123,
   "metadata": {},
   "outputs": [
    {
     "data": {
      "text/plain": [
       "(array([], dtype=object),\n",
       " array(['r-data-science'], dtype=object),\n",
       " array(['machine-learning', 'sql', 'big-data', 'sql-server',\n",
       "        'data-visualization'], dtype=object))"
      ]
     },
     "execution_count": 123,
     "metadata": {},
     "output_type": "execute_result"
    }
   ],
   "source": [
    "user_id = 330\n",
    "scores[scores['user_handle'] == user_id]['assessment_tag'].unique(),\\\n",
    "views[views['user_handle'] == user_id]['course_id'].unique(),\\\n",
    "interests[interests['user_handle'] == user_id]['interest_tag'].unique()"
   ]
  },
  {
   "cell_type": "markdown",
   "metadata": {},
   "source": [
    "### SVD for dimentionality reduction"
   ]
  },
  {
   "cell_type": "code",
   "execution_count": 125,
   "metadata": {
    "collapsed": true
   },
   "outputs": [],
   "source": [
    "from sklearn.decomposition import TruncatedSVD\n",
    "svd = TruncatedSVD(n_components=500, n_iter=10, random_state=42)\n",
    "svd.fit(users)\n",
    "users_svd = svd.transform(users)\n",
    "users_svd = pd.DataFrame(users_svd, index=users.index)\n",
    "sim_matrix_svd = pd.DataFrame(cosine_similarity(users_svd), index=users_svd.index, columns=users_svd.index)"
   ]
  },
  {
   "cell_type": "code",
   "execution_count": 127,
   "metadata": {},
   "outputs": [
    {
     "data": {
      "text/plain": [
       "user_handle\n",
       "30      1.000000\n",
       "7158    0.740122\n",
       "5265    0.731207\n",
       "8393    0.728227\n",
       "330     0.710626\n",
       "4114    0.706811\n",
       "2720    0.704573\n",
       "1662    0.689206\n",
       "1734    0.683065\n",
       "9894    0.674101\n",
       "Name: 30, dtype: float64"
      ]
     },
     "execution_count": 127,
     "metadata": {},
     "output_type": "execute_result"
    }
   ],
   "source": [
    "sim_matrix_svd.loc[30].sort_values(ascending=False)[:10]"
   ]
  },
  {
   "cell_type": "code",
   "execution_count": 128,
   "metadata": {},
   "outputs": [
    {
     "data": {
      "text/plain": [
       "(array([], dtype=object),\n",
       " array(['agile-real-world', 'android-start-developing',\n",
       "        'aws-developer-big-picture', 'big-scrum', 'kanban-fundamentals',\n",
       "        'microsoft-azure-big-picture', 'r-data-science',\n",
       "        'ibm-bluemix-applications', 'data-analysis-fundamentals-tableau',\n",
       "        'enterprise-business-intelligence-tableau-server',\n",
       "        'tableau-10-whats-new', 'r-data-visualization-beginner'], dtype=object),\n",
       " array(['machine-learning', 'data-science', 'business-intelligence',\n",
       "        'performance', 'performance-optimization', 'r-framework',\n",
       "        'data-analysis'], dtype=object))"
      ]
     },
     "execution_count": 128,
     "metadata": {},
     "output_type": "execute_result"
    }
   ],
   "source": [
    "user_id = 5265\n",
    "scores[scores['user_handle'] == user_id]['assessment_tag'].unique(),\\\n",
    "views[views['user_handle'] == user_id]['course_id'].unique(),\\\n",
    "interests[interests['user_handle'] == user_id]['interest_tag'].unique()"
   ]
  },
  {
   "cell_type": "code",
   "execution_count": 130,
   "metadata": {},
   "outputs": [
    {
     "data": {
      "text/plain": [
       "(array([], dtype=object), array(['adv-sql-queries-oracle-sql-server',\n",
       "        'optimizing-sql-queries-oracle', 'mongodb-big-data-reporting',\n",
       "        'big-data-hue-cloudera-cdh', 'big-data-hadoop-cluster-cloudera-cdh',\n",
       "        'bigdata-bigpicture', 'r-data-science', 'sap-getting-started'], dtype=object), array(['big-data', 'business-intelligence', 'data-science',\n",
       "        'data-visualization'], dtype=object))"
      ]
     },
     "execution_count": 130,
     "metadata": {},
     "output_type": "execute_result"
    }
   ],
   "source": [
    "user_id = 1734\n",
    "scores[scores['user_handle'] == user_id]['assessment_tag'].unique(),\\\n",
    "views[views['user_handle'] == user_id]['course_id'].unique(),\\\n",
    "interests[interests['user_handle'] == user_id]['interest_tag'].unique()"
   ]
  },
  {
   "cell_type": "code",
   "execution_count": 168,
   "metadata": {},
   "outputs": [
    {
     "data": {
      "text/plain": [
       "[<matplotlib.lines.Line2D at 0x1148594a8>]"
      ]
     },
     "execution_count": 168,
     "metadata": {},
     "output_type": "execute_result"
    },
    {
     "data": {
      "image/png": "[encoded data removed]",
      "text/plain": [
       "<matplotlib.figure.Figure at 0x11aebdd30>"
      ]
     },
     "metadata": {},
     "output_type": "display_data"
    }
   ],
   "source": [
    "plt.plot(np.cumsum(svd.explained_variance_ratio_))"
   ]
  },
  {
   "cell_type": "code",
   "execution_count": 154,
   "metadata": {
    "collapsed": true
   },
   "outputs": [],
   "source": [
    "# Around 300 features are enough to retain 80% data"
   ]
  },
  {
   "cell_type": "code",
   "execution_count": 155,
   "metadata": {
    "collapsed": true
   },
   "outputs": [],
   "source": [
    "svd = TruncatedSVD(n_components=300, n_iter=10, random_state=42)\n",
    "svd.fit(users)\n",
    "users_svd = svd.transform(users)\n",
    "users_svd = pd.DataFrame(users_svd, index=users.index)\n",
    "sim_matrix_svd = pd.DataFrame(cosine_similarity(users_svd), index=users_svd.index, columns=users_svd.index)"
   ]
  },
  {
   "cell_type": "code",
   "execution_count": 156,
   "metadata": {},
   "outputs": [
    {
     "data": {
      "text/plain": [
       "user_handle\n",
       "30      1.000000\n",
       "5265    0.741825\n",
       "7158    0.740696\n",
       "1734    0.728072\n",
       "8393    0.726434\n",
       "330     0.709245\n",
       "4114    0.709237\n",
       "2720    0.705054\n",
       "1662    0.702990\n",
       "6850    0.696446\n",
       "Name: 30, dtype: float64"
      ]
     },
     "execution_count": 156,
     "metadata": {},
     "output_type": "execute_result"
    }
   ],
   "source": [
    "sim_matrix_svd.loc[30].sort_values(ascending=False)[:10]"
   ]
  },
  {
   "cell_type": "code",
   "execution_count": 159,
   "metadata": {},
   "outputs": [
    {
     "data": {
      "text/plain": [
       "(array([], dtype=object),\n",
       " array(['ssas-basic', 'office-365-70-347-clients-end-user-devices',\n",
       "        'planning-sharepoint-server-2016-topology-services',\n",
       "        'supporting-office-365-identities',\n",
       "        'writing-workplace-email-memos-reports-social',\n",
       "        'setting-up-office-365-identities', 'python-getting-started',\n",
       "        'data-mining-algorithms-ssas-excel-r',\n",
       "        'enterprise-business-intelligence-tableau-server', 'r-data-science',\n",
       "        'ssis-design-patterns-data-warehousing',\n",
       "        'r-programming-fundamentals', 'tableau-10-whats-new',\n",
       "        'r-data-visualization-beginner',\n",
       "        'data-visualization-using-tableau-public',\n",
       "        'being-better-communicator-grammar-dejargoning-articulation',\n",
       "        'visual-communication-technical-diagrams'], dtype=object),\n",
       " array(['python', 'data-analysis', 'information-security',\n",
       "        'machine-learning', 'database-administration', 'big-data',\n",
       "        'business-intelligence', 'data-science', 'communication',\n",
       "        'performance', 'performance-optimization', 'sql', 'ssis',\n",
       "        'data-visualization', 'sql-server', 'r-framework'], dtype=object))"
      ]
     },
     "execution_count": 159,
     "metadata": {},
     "output_type": "execute_result"
    }
   ],
   "source": [
    "user_id = 6850\n",
    "scores[scores['user_handle'] == user_id]['assessment_tag'].unique(),\\\n",
    "views[views['user_handle'] == user_id]['course_id'].unique(),\\\n",
    "interests[interests['user_handle'] == user_id]['interest_tag'].unique()"
   ]
  },
  {
   "cell_type": "code",
   "execution_count": 162,
   "metadata": {},
   "outputs": [
    {
     "name": "stdout",
     "output_type": "stream",
     "text": [
      "<class 'pandas.core.frame.DataFrame'>\n",
      "Int64Index: 10000 entries, 2 to 9971\n",
      "Columns: 300 entries, 0 to 299\n",
      "dtypes: float64(300)\n",
      "memory usage: 23.3 MB\n"
     ]
    }
   ],
   "source": [
    "users_svd.info()"
   ]
  },
  {
   "cell_type": "code",
   "execution_count": 178,
   "metadata": {
    "collapsed": true
   },
   "outputs": [],
   "source": [
    "#Writing to database\n",
    "db_file = '../db/usersim.sqlite'\n",
    "engine = sqlite3.connect(db_file, timeout=10)\n",
    "\n",
    "users_svd.to_sql('users', engine, if_exists='replace', index=True)\n",
    "engine.close()"
   ]
  },
  {
   "cell_type": "markdown",
   "metadata": {},
   "source": [
    "### API"
   ]
  },
  {
   "cell_type": "code",
   "execution_count": 183,
   "metadata": {
    "collapsed": true
   },
   "outputs": [],
   "source": [
    "import heapq"
   ]
  },
  {
   "cell_type": "code",
   "execution_count": 579,
   "metadata": {},
   "outputs": [],
   "source": [
    "db_file = '../db/usersim.sqlite'\n",
    "\n",
    "def get_similar_users(user_handle, num_users=10):\n",
    "    \n",
    "    minheap = []\n",
    "    \n",
    "    try:\n",
    "        conn = sqlite3.connect(db_file)\n",
    "        cur = conn.cursor()\n",
    "        cur.execute('select * from users where user_handle=?', (str(user_handle),))  \n",
    "        input_user = cur.fetchone()\n",
    "        \n",
    "        if not input_user:\n",
    "            raise Exception('User Not Found')\n",
    "    \n",
    "        input_user = np.array(input_user).reshape(1,-1)[:,1:]\n",
    "        \n",
    "        cur.execute('select * from users')\n",
    "        \n",
    "        users = cur.fetchmany(num_users+1)\n",
    "        if not users:\n",
    "                return\n",
    "        users = np.array(users)\n",
    "        user_ids = users[:,0]\n",
    "        users = users[:,1:]\n",
    "        \n",
    "        similarities = cosine_similarity(input_user, users)[0]\n",
    "        \n",
    "        for user_id, sim in zip(user_ids, similarities):\n",
    "            if user_id != user_handle:\n",
    "                minheap.append((sim, int(user_id)))\n",
    "        \n",
    "        heapq.heapify(minheap)\n",
    "                \n",
    "        while True:\n",
    "            users = cur.fetchmany(1000)\n",
    "            if not users:\n",
    "                break\n",
    "                \n",
    "            users = np.array(users)\n",
    "            \n",
    "            user_ids = users[:,0]\n",
    "            users = users[:,1:]\n",
    "            similarities = cosine_similarity(input_user, users)[0]\n",
    "\n",
    "            for user_id, sim in zip(user_ids, similarities):\n",
    "                if user_id != user_handle:\n",
    "                    heapq.heappushpop(minheap, (sim, int(user_id)))\n",
    "        \n",
    "    except Exception as e:\n",
    "        return\n",
    "    finally:\n",
    "        cur.close()\n",
    "        conn.close()\n",
    "    \n",
    "    return [s[1] for s in heapq.nlargest(num_users, minheap)]"
   ]
  },
  {
   "cell_type": "code",
   "execution_count": 580,
   "metadata": {},
   "outputs": [
    {
     "data": {
      "text/plain": [
       "[6738, 2825, 1486, 9647, 3984]"
      ]
     },
     "execution_count": 580,
     "metadata": {},
     "output_type": "execute_result"
    }
   ],
   "source": [
    "get_similar_users(300, 5)"
   ]
  },
  {
   "cell_type": "code",
   "execution_count": 576,
   "metadata": {},
   "outputs": [
    {
     "data": {
      "text/plain": [
       "(array([], dtype=object),\n",
       " array(['dotnet-core-windows-developers-getting-started'], dtype=object),\n",
       " array(['c#', '.net', 'asp.net-core', 'python'], dtype=object))"
      ]
     },
     "execution_count": 576,
     "metadata": {},
     "output_type": "execute_result"
    }
   ],
   "source": [
    "user_id = 300\n",
    "scores[scores['user_handle'] == user_id]['assessment_tag'].unique(),\\\n",
    "views[views['user_handle'] == user_id]['course_id'].unique(),\\\n",
    "interests[interests['user_handle'] == user_id]['interest_tag'].unique()"
   ]
  },
  {
   "cell_type": "code",
   "execution_count": 577,
   "metadata": {},
   "outputs": [
    {
     "data": {
      "text/plain": [
       "(array(['python'], dtype=object),\n",
       " array(['c-sharp-fundamentals-with-visual-studio-2015',\n",
       "        'csharp-equality-comparisons'], dtype=object),\n",
       " array(['c#', 'python', 'asp.net-core', '.net'], dtype=object))"
      ]
     },
     "execution_count": 577,
     "metadata": {},
     "output_type": "execute_result"
    }
   ],
   "source": [
    "user_id = 6738\n",
    "scores[scores['user_handle'] == user_id]['assessment_tag'].unique(),\\\n",
    "views[views['user_handle'] == user_id]['course_id'].unique(),\\\n",
    "interests[interests['user_handle'] == user_id]['interest_tag'].unique()"
   ]
  },
  {
   "cell_type": "code",
   "execution_count": null,
   "metadata": {
    "collapsed": true
   },
   "outputs": [],
   "source": [
    "from flask import Flask, request\n",
    "from flask import jsonify\n",
    "import numpy as np\n",
    "import sqlite3\n",
    "from sklearn.metrics.pairwise import cosine_similarity\n",
    "import heapq\n",
    "\n",
    "app = Flask(__name__)\n",
    "db_file = '../db/usersim.sqlite'\n",
    "\n",
    "@app.route('/simusers')\n",
    "def get_similar_users():\n",
    "    \n",
    "    user_handle = request.args.get('userhandle')\n",
    "    if not user_handle:\n",
    "        return 'user not found'\n",
    "    num_users = request.args.get('numusers')\n",
    "    if not num_users:\n",
    "        num_users=10\n",
    "    else:\n",
    "        num_users = int(num_users)\n",
    "    \n",
    "    minheap = []\n",
    "    conn = None\n",
    "    cur = None\n",
    "    try:\n",
    "        conn = sqlite3.connect(db_file)\n",
    "        cur = conn.cursor()\n",
    "        cur.execute('select * from users where user_handle=?', (str(user_handle),))  \n",
    "        input_user = cur.fetchone()\n",
    "        \n",
    "        if not input_user:\n",
    "            raise Exception('User Not Found')\n",
    "    \n",
    "        input_user = np.array(input_user).reshape(1,-1)[:,1:]\n",
    "        \n",
    "        cur.execute('select * from users')\n",
    "        \n",
    "        users = cur.fetchmany(num_users+1)\n",
    "        if not users:\n",
    "            return\n",
    "        users = np.array(users)\n",
    "        user_ids = users[:,0]\n",
    "        users = users[:,1:]\n",
    "        \n",
    "        similarities = cosine_similarity(input_user, users)[0]\n",
    "        \n",
    "        for user_id, sim in zip(user_ids, similarities):\n",
    "            if user_id != user_handle:\n",
    "                minheap.append((sim, int(user_id)))\n",
    "        \n",
    "        heapq.heapify(minheap)\n",
    "                \n",
    "        while True:\n",
    "            users = cur.fetchmany(1000)\n",
    "            if not users:\n",
    "                break\n",
    "                \n",
    "            users = np.array(users)\n",
    "            \n",
    "            user_ids = users[:,0]\n",
    "            users = users[:,1:]\n",
    "            similarities = cosine_similarity(input_user, users)[0]\n",
    "\n",
    "            for user_id, sim in zip(user_ids, similarities):\n",
    "                if user_id != user_handle:\n",
    "                    heapq.heappushpop(minheap, (sim, int(user_id)))\n",
    "        \n",
    "    except Exception as e:\n",
    "        return str(e)\n",
    "    finally:\n",
    "        if cur is not None:\n",
    "            cur.close()\n",
    "        if conn is not None:\n",
    "            conn.close()\n",
    "    \n",
    "    return jsonify([s[1] for s in heapq.nlargest(num_users, minheap)])\n",
    "\n",
    "if __name__ == \"__main__\":\n",
    "        app.run(host=\"0.0.0.0\", port=9080)"
   ]
  }
 ],
 "metadata": {
  "kernelspec": {
   "display_name": "Python 3",
   "language": "python",
   "name": "python3"
  },
  "language_info": {
   "codemirror_mode": {
    "name": "ipython",
    "version": 3
   },
   "file_extension": ".py",
   "mimetype": "text/x-python",
   "name": "python",
   "nbconvert_exporter": "python",
   "pygments_lexer": "ipython3",
   "version": "3.5.4"
  }
 },
 "nbformat": 4,
 "nbformat_minor": 2
}
